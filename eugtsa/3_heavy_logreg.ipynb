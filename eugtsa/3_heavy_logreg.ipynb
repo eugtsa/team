{
 "cells": [
  {
   "cell_type": "code",
   "execution_count": 1,
   "metadata": {
    "collapsed": false
   },
   "outputs": [
    {
     "name": "stderr",
     "output_type": "stream",
     "text": [
      "/usr/local/lib/python3.4/dist-packages/sklearn/cross_validation.py:44: DeprecationWarning: This module was deprecated in version 0.18 in favor of the model_selection module into which all the refactored classes and functions are moved. Also note that the interface of the new CV iterators are different from that of this module. This module will be removed in 0.20.\n",
      "  \"This module will be removed in 0.20.\", DeprecationWarning)\n",
      "/usr/local/lib/python3.4/dist-packages/sklearn/grid_search.py:43: DeprecationWarning: This module was deprecated in version 0.18 in favor of the model_selection module into which all the refactored classes and functions are moved. This module will be removed in 0.20.\n",
      "  DeprecationWarning)\n"
     ]
    }
   ],
   "source": [
    "import sys\n",
    "\n",
    "sys.path.insert(0,'../')\n",
    "from sklearn.ensemble import RandomForestClassifier\n",
    "from sklearn.metrics import log_loss\n",
    "from sklearn.cross_validation import cross_val_score\n",
    "from sklearn.grid_search import GridSearchCV\n",
    "from sklearn.utils import shuffle\n",
    "import pandas as pd\n",
    "from itertools import chain\n",
    "import numpy as np\n",
    "from scipy.sparse import csr_matrix\n",
    "from tqdm import tqdm\n",
    "from multiprocessing import Pool\n",
    "from scipy.sparse import vstack\n",
    "from functools import reduce\n",
    "\n",
    "pd.set_option(\"display.max_columns\", 150)"
   ]
  },
  {
   "cell_type": "code",
   "execution_count": 2,
   "metadata": {
    "collapsed": true
   },
   "outputs": [],
   "source": [
    "def save_sparse_csr(filename,array):\n",
    "    np.savez(filename,data = array.data ,indices=array.indices,\n",
    "             indptr =array.indptr, shape=array.shape )\n",
    "\n",
    "def load_sparse_csr(filename):\n",
    "    loader = np.load(filename)\n",
    "    return csr_matrix((  loader['data'], loader['indices'], loader['indptr']),\n",
    "                         shape = loader['shape'])"
   ]
  },
  {
   "cell_type": "code",
   "execution_count": null,
   "metadata": {
    "collapsed": true
   },
   "outputs": [],
   "source": [
    "all_data = pd.concat([pd.read_csv('../data/features.csv.zip',compression='zip'),\\\n",
    "                     pd.read_csv('../data/features_test.csv.zip',compression='zip')])"
   ]
  },
  {
   "cell_type": "code",
   "execution_count": null,
   "metadata": {
    "collapsed": true
   },
   "outputs": [],
   "source": [
    "all_data.first_blood_team = all_data.first_blood_team.replace(0.0,-1.0)\n",
    "all_data.first_blood_team = all_data.first_blood_team.fillna(0.0)\n",
    "\n",
    "all_data.first_blood_player2 = all_data.first_blood_player2.fillna(0.0)\n",
    "all_data.first_blood_player1 = all_data.first_blood_player1.fillna(0.0)\n",
    "all_data.first_blood_player1 = all_data.first_blood_player1.astype(int)\n",
    "all_data.first_blood_player2 = all_data.first_blood_player2.astype(int)"
   ]
  },
  {
   "cell_type": "code",
   "execution_count": null,
   "metadata": {
    "collapsed": true
   },
   "outputs": [],
   "source": [
    "all_data.lobby_type = all_data.lobby_type.replace(7,'ranked')\n",
    "all_data.lobby_type = all_data.lobby_type.replace(0,'public_matchmaking')\n",
    "all_data.lobby_type = all_data.lobby_type.replace(1,'practice')\n",
    "\n",
    "onehot_cols = ['lobby_type',]"
   ]
  },
  {
   "cell_type": "code",
   "execution_count": null,
   "metadata": {
    "collapsed": true
   },
   "outputs": [],
   "source": [
    "all_data = pd.get_dummies(all_data, prefix=None, prefix_sep='_', dummy_na=False, columns=onehot_cols, sparse=False, drop_first=False)"
   ]
  },
  {
   "cell_type": "code",
   "execution_count": null,
   "metadata": {
    "collapsed": true
   },
   "outputs": [],
   "source": [
    "for feat in list(all_data.columns):\n",
    "    if feat.endswith('level'):\n",
    "        prefix = feat[:3]\n",
    "        all_data[prefix+'levhero'] = all_data[feat].astype(str).str.cat(all_data[prefix+'hero'].astype(str),sep='_'+prefix[0]+'_')"
   ]
  },
  {
   "cell_type": "code",
   "execution_count": null,
   "metadata": {
    "collapsed": true
   },
   "outputs": [],
   "source": [
    "all_hero_unique_vals = list(all_data.r1_hero.unique())\n",
    "\n",
    "def get_hero_ordered_level(level,side,max_level=7):\n",
    "    return [(side if j<=int(level) else 0.0) for j in range(max_level+1)]\n",
    "\n",
    "def encode_hero(herolev_val,heroes_total=108,max_level=7):\n",
    "    hero_level,hero_side,hero_index = herolev_val.split('_')\n",
    "    \n",
    "    side_multiplier = 1.0 if hero_side=='r' else -1.0\n",
    "    \n",
    "    res = [get_hero_ordered_level(hero_level,side_multiplier) if int(hero_index)==i else [0.0 for i in range(max_level+1)]\n",
    "            for i in all_hero_unique_vals]\n",
    "    return csr_matrix([r for r in chain(*res)])\n",
    "    \n",
    "def encode_df_col(df_col):\n",
    "    return all_data[df_col].apply(encode_hero)"
   ]
  },
  {
   "cell_type": "code",
   "execution_count": null,
   "metadata": {
    "collapsed": true
   },
   "outputs": [],
   "source": [
    "# p1 = Pool(4)\n",
    "\n",
    "# levhero_cols = [col for col in all_data.columns if col.endswith('levhero')]\n",
    "\n",
    "# all_heroes_vectors_accumulated = p1.map(encode_df_col, levhero_cols)\n",
    "\n",
    "# v_stacked = [vstack(rows) for rows in all_heroes_vectors_accumulated]\n",
    "\n",
    "# v_stacked_additioned  = reduce(lambda x,y: x + y, v_stacked)\n",
    "\n",
    "# save_sparse_csr('./sparse_herolev.csr',v_stacked_additioned)"
   ]
  },
  {
   "cell_type": "code",
   "execution_count": null,
   "metadata": {
    "collapsed": true
   },
   "outputs": [],
   "source": [
    "v_stacked_additioned = load_sparse_csr('./sparse_herolev.csr.npz')"
   ]
  }
 ],
 "metadata": {
  "kernelspec": {
   "display_name": "Python 3",
   "language": "python",
   "name": "python3"
  },
  "language_info": {
   "codemirror_mode": {
    "name": "ipython",
    "version": 3
   },
   "file_extension": ".py",
   "mimetype": "text/x-python",
   "name": "python",
   "nbconvert_exporter": "python",
   "pygments_lexer": "ipython3",
   "version": "3.5.1"
  }
 },
 "nbformat": 4,
 "nbformat_minor": 1
}
