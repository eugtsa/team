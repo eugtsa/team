{
 "cells": [
  {
   "cell_type": "code",
   "execution_count": 13,
   "metadata": {
    "collapsed": false
   },
   "outputs": [],
   "source": [
    "import pandas as pd\n",
    "\n",
    "pd.set_option(\"display.max_columns\", 150)"
   ]
  },
  {
   "cell_type": "code",
   "execution_count": 14,
   "metadata": {
    "collapsed": false
   },
   "outputs": [],
   "source": [
    "train_small = pd.read_csv('./features.csv.zip',compression='zip')"
   ]
  },
  {
   "cell_type": "code",
   "execution_count": 16,
   "metadata": {
    "collapsed": false
   },
   "outputs": [],
   "source": [
    "#test = pd.read_csv('./out_test.csv')"
   ]
  },
  {
   "cell_type": "markdown",
   "metadata": {},
   "source": [
    "## Посморим на уже подготовленные данные"
   ]
  },
  {
   "cell_type": "code",
   "execution_count": 17,
   "metadata": {
    "collapsed": false
   },
   "outputs": [],
   "source": [
    "for feat in list(train_small.columns):\n",
    "    if feat.endswith('level'):a\n",
    "        prefix = feat[:3]\n",
    "        train_small[prefix+'levhero'] = train_small[feat].astype(str).str.cat(train_small[prefix+'hero'].astype(str),sep='_')"
   ]
  },
  {
   "cell_type": "code",
   "execution_count": 19,
   "metadata": {
    "collapsed": false
   },
   "outputs": [
    {
     "data": {
      "text/plain": [
       "-90.0"
      ]
     },
     "execution_count": 19,
     "metadata": {},
     "output_type": "execute_result"
    }
   ],
   "source": [
    "train_small.radiant_courier_time.min()"
   ]
  },
  {
   "cell_type": "code",
   "execution_count": 20,
   "metadata": {
    "collapsed": false
   },
   "outputs": [
    {
     "data": {
      "text/plain": [
       "300.0"
      ]
     },
     "execution_count": 20,
     "metadata": {},
     "output_type": "execute_result"
    }
   ],
   "source": [
    "train_small.radiant_courier_time.max()"
   ]
  },
  {
   "cell_type": "code",
   "execution_count": 24,
   "metadata": {
    "collapsed": false
   },
   "outputs": [
    {
     "data": {
      "text/plain": [
       "0.29999999999999999"
      ]
     },
     "execution_count": 24,
     "metadata": {},
     "output_type": "execute_result"
    }
   ],
   "source": [
    "train_small[train_small.radiant_courier_time>250].radiant_win.mean()"
   ]
  },
  {
   "cell_type": "code",
   "execution_count": 25,
   "metadata": {
    "collapsed": false
   },
   "outputs": [
    {
     "data": {
      "text/plain": [
       "0.51875835345068744"
      ]
     },
     "execution_count": 25,
     "metadata": {},
     "output_type": "execute_result"
    }
   ],
   "source": [
    "train_small[train_small.radiant_courier_time<250].radiant_win.mean()"
   ]
  },
  {
   "cell_type": "code",
   "execution_count": 27,
   "metadata": {
    "collapsed": false
   },
   "outputs": [
    {
     "data": {
      "text/plain": [
       "r1_lh    20\n",
       "r2_lh    10\n",
       "r3_lh    10\n",
       "r4_lh     6\n",
       "r5_lh     4\n",
       "Name: 0, dtype: object"
      ]
     },
     "execution_count": 27,
     "metadata": {},
     "output_type": "execute_result"
    }
   ],
   "source": [
    "train_small.ix[0, ['r1_lh', 'r2_lh', 'r3_lh', 'r4_lh', 'r5_lh']]"
   ]
  },
  {
   "cell_type": "code",
   "execution_count": 29,
   "metadata": {
    "collapsed": false
   },
   "outputs": [
    {
     "data": {
      "text/plain": [
       "r1_gold    1489\n",
       "r2_gold     991\n",
       "r3_gold    1143\n",
       "r4_gold     741\n",
       "r5_gold     658\n",
       "Name: 0, dtype: object"
      ]
     },
     "execution_count": 29,
     "metadata": {},
     "output_type": "execute_result"
    }
   ],
   "source": [
    "train_small.ix[0, ['r1_gold', 'r2_gold', 'r3_gold', 'r4_gold', 'r5_gold']]"
   ]
  },
  {
   "cell_type": "code",
   "execution_count": 28,
   "metadata": {
    "collapsed": false
   },
   "outputs": [
    {
     "data": {
      "text/plain": [
       "r1_xp    2098\n",
       "r2_xp     842\n",
       "r3_xp    1909\n",
       "r4_xp     757\n",
       "r5_xp     732\n",
       "Name: 0, dtype: object"
      ]
     },
     "execution_count": 28,
     "metadata": {},
     "output_type": "execute_result"
    }
   ],
   "source": [
    "train_small.ix[0, ['r1_xp', 'r2_xp', 'r3_xp', 'r4_xp', 'r5_xp']]"
   ]
  },
  {
   "cell_type": "code",
   "execution_count": 29,
   "metadata": {
    "collapsed": false
   },
   "outputs": [
    {
     "data": {
      "text/plain": [
       "Index(['barracks_status_dire', 'barracks_status_radiant', 'duration',\n",
       "       'radiant_win', 'tower_status_dire', 'tower_status_radiant'],\n",
       "      dtype='object')"
      ]
     },
     "execution_count": 29,
     "metadata": {},
     "output_type": "execute_result"
    }
   ],
   "source": [
    "train_small.columns.difference(test.columns)"
   ]
  },
  {
   "cell_type": "code",
   "execution_count": 30,
   "metadata": {
    "collapsed": true
   },
   "outputs": [],
   "source": [
    "all_data = pd.read_csv('./features.csv.zip',compression='zip')"
   ]
  },
  {
   "cell_type": "markdown",
   "metadata": {},
   "source": [
    "### Какой максимальный уровень?"
   ]
  },
  {
   "cell_type": "code",
   "execution_count": 5,
   "metadata": {
    "collapsed": false
   },
   "outputs": [
    {
     "name": "stdout",
     "output_type": "stream",
     "text": [
      "6\n",
      "6\n",
      "7\n",
      "7\n",
      "6\n",
      "7\n",
      "7\n",
      "7\n",
      "7\n",
      "7\n"
     ]
    }
   ],
   "source": [
    "for col in train_small.columns:\n",
    "    if col.endswith('level'):\n",
    "        print(train_small[col].max())"
   ]
  },
  {
   "cell_type": "code",
   "execution_count": 6,
   "metadata": {
    "collapsed": false
   },
   "outputs": [
    {
     "name": "stdout",
     "output_type": "stream",
     "text": [
      "0\n",
      "0\n",
      "0\n",
      "0\n",
      "0\n",
      "0\n",
      "0\n",
      "0\n",
      "0\n",
      "0\n"
     ]
    }
   ],
   "source": [
    "for col in train_small.columns:\n",
    "    if col.endswith('level'):\n",
    "        print(train_small[col].min())"
   ]
  },
  {
   "cell_type": "markdown",
   "metadata": {},
   "source": [
    "### Игры каких типов присутствуют в логах?\n"
   ]
  },
  {
   "cell_type": "code",
   "execution_count": 31,
   "metadata": {
    "collapsed": false
   },
   "outputs": [
    {
     "data": {
      "text/plain": [
       "array([7, 0, 1])"
      ]
     },
     "execution_count": 31,
     "metadata": {},
     "output_type": "execute_result"
    }
   ],
   "source": [
    "all_data.lobby_type.unique()"
   ]
  },
  {
   "cell_type": "markdown",
   "metadata": {},
   "source": [
    "        id,name\n",
    "      -1,Invalid\n",
    "      0,Public matchmaking\n",
    "      1,Practice\n",
    "      2,Tournament\n",
    "      3,Tutorial\n",
    "      4,Co-op with bots\n",
    "      5,Team match\n",
    "      6,Solo Queue\n",
    "      7,Ranked\n",
    "      8,Solo Mid 1vs1"
   ]
  },
  {
   "cell_type": "markdown",
   "metadata": {},
   "source": [
    "## Посмотрим на сырые данные"
   ]
  },
  {
   "cell_type": "code",
   "execution_count": 9,
   "metadata": {
    "collapsed": true
   },
   "outputs": [],
   "source": [
    "import json"
   ]
  },
  {
   "cell_type": "code",
   "execution_count": 12,
   "metadata": {
    "collapsed": false
   },
   "outputs": [],
   "source": [
    "first_5_matches = [json.loads(s) for s in open('5_matches.json')]"
   ]
  },
  {
   "cell_type": "code",
   "execution_count": 25,
   "metadata": {
    "collapsed": false
   },
   "outputs": [],
   "source": [
    "import uuid\n",
    "from IPython.display import display_javascript, display_html, display\n",
    "import json\n",
    "\n",
    "class RenderJSON(object):\n",
    "    def __init__(self, json_data):\n",
    "        if isinstance(json_data, dict):\n",
    "            self.json_str = json.dumps(json_data)\n",
    "        else:\n",
    "            self.json_str = json\n",
    "        self.uuid = str(uuid.uuid4())\n",
    "\n",
    "    def _ipython_display_(self):\n",
    "        display_html('<div id=\"{}\" style=\"height: 600px; width:100%;\"></div>'.format(self.uuid),\n",
    "            raw=True\n",
    "        )\n",
    "        display_javascript(\"\"\"\n",
    "        require([\"https://rawgit.com/caldwell/renderjson/master/renderjson.js\"], function() {\n",
    "          document.getElementById('%s').appendChild(renderjson(%s))\n",
    "        });\n",
    "        \"\"\" % (self.uuid, self.json_str), raw=True)"
   ]
  },
  {
   "cell_type": "code",
   "execution_count": 26,
   "metadata": {
    "collapsed": false
   },
   "outputs": [
    {
     "data": {
      "text/html": [
       "<div id=\"1642a84e-4e22-418d-978b-e912e235ee79\" style=\"height: 600px; width:100%;\"></div>"
      ]
     },
     "metadata": {},
     "output_type": "display_data"
    },
    {
     "data": {
      "application/javascript": [
       "\n",
       "        require([\"https://rawgit.com/caldwell/renderjson/master/renderjson.js\"], function() {\n",
       "          document.getElementById('1642a84e-4e22-418d-978b-e912e235ee79').appendChild(renderjson({\"picks_bans\": [{\"team\": 1, \"is_pick\": false, \"order\": 0, \"hero_id\": 95}, {\"team\": 0, \"is_pick\": false, \"order\": 1, \"hero_id\": 39}, {\"team\": 1, \"is_pick\": false, \"order\": 2, \"hero_id\": 99}, {\"team\": 0, \"is_pick\": false, \"order\": 3, \"hero_id\": 41}, {\"team\": 1, \"is_pick\": true, \"order\": 4, \"hero_id\": 42}, {\"team\": 0, \"is_pick\": true, \"order\": 5, \"hero_id\": 68}, {\"team\": 0, \"is_pick\": true, \"order\": 6, \"hero_id\": 22}, {\"team\": 1, \"is_pick\": true, \"order\": 7, \"hero_id\": 64}, {\"team\": 1, \"is_pick\": false, \"order\": 8, \"hero_id\": 73}, {\"team\": 0, \"is_pick\": false, \"order\": 9, \"hero_id\": 11}, {\"team\": 1, \"is_pick\": false, \"order\": 10, \"hero_id\": 97}, {\"team\": 0, \"is_pick\": false, \"order\": 11, \"hero_id\": 93}, {\"team\": 0, \"is_pick\": true, \"order\": 12, \"hero_id\": 98}, {\"team\": 1, \"is_pick\": true, \"order\": 13, \"hero_id\": 47}, {\"team\": 0, \"is_pick\": true, \"order\": 14, \"hero_id\": 88}, {\"team\": 1, \"is_pick\": true, \"order\": 15, \"hero_id\": 110}, {\"team\": 0, \"is_pick\": false, \"order\": 16, \"hero_id\": 48}, {\"team\": 1, \"is_pick\": false, \"order\": 17, \"hero_id\": 35}, {\"team\": 0, \"is_pick\": true, \"order\": 18, \"hero_id\": 67}, {\"team\": 1, \"is_pick\": true, \"order\": 19, \"hero_id\": 8}], \"finish\": {\"barracks_status_dire\": 63, \"tower_status_dire\": 1972, \"tower_status_radiant\": 0, \"barracks_status_radiant\": 0, \"duration\": 2980, \"radiant_win\": false}, \"players\": [{\"lh_t\": [0, 2, 7, 14, 20, 28, 33, 40, 45, 50, 57, 64, 68, 74, 76, 80, 89, 92, 92, 97, 97, 112, 115, 123, 124, 132, 146, 152, 166, 180, 180, 183, 185, 189, 201, 220, 225, 231, 253, 261, 275, 283, 293, 296, 296, 306, 319, 337, 347, 364, 365], \"buyback_log\": [{\"time\": 2507, \"key\": null}], \"xp_t\": [0, 175, 396, 704, 846, 1034, 1171, 1627, 2081, 2427, 2829, 3161, 3511, 3903, 4895, 5052, 5568, 5881, 6205, 6428, 7463, 8286, 8676, 9233, 9664, 10392, 11682, 12043, 12624, 13459, 13459, 13577, 14836, 15228, 16062, 16745, 17307, 20343, 21087, 22179, 22642, 22942, 23192, 24343, 24343, 24668, 26986, 30854, 31022, 31393, 31470], \"purchase_log\": [{\"item_id\": 44, \"time\": -73}, {\"item_id\": 16, \"time\": -72}, {\"item_id\": 182, \"time\": -71}, {\"item_id\": 39, \"time\": -68}, {\"item_id\": 16, \"time\": -66}, {\"item_id\": 14, \"time\": 43}, {\"item_id\": 71, \"time\": 43}, {\"item_id\": 14, \"time\": 43}, {\"item_id\": 29, \"time\": 175}, {\"item_id\": 54, \"time\": 783}, {\"item_id\": 46, \"time\": 847}, {\"item_id\": 137, \"time\": 984}, {\"item_id\": 46, \"time\": 1049}, {\"item_id\": 46, \"time\": 1128}, {\"item_id\": 22, \"time\": 1187}, {\"item_id\": 22, \"time\": 1208}, {\"item_id\": 46, \"time\": 1296}, {\"item_id\": 46, \"time\": 1320}, {\"item_id\": 46, \"time\": 1538}, {\"item_id\": 19, \"time\": 1552}, {\"item_id\": 174, \"time\": 1606}, {\"item_id\": 22, \"time\": 1870}, {\"item_id\": 18, \"time\": 1870}, {\"item_id\": 170, \"time\": 1870}, {\"item_id\": 46, \"time\": 1948}, {\"item_id\": 46, \"time\": 1961}, {\"item_id\": 24, \"time\": 2239}, {\"item_id\": 147, \"time\": 2307}, {\"item_id\": 196, \"time\": 2378}, {\"item_id\": 46, \"time\": 2414}, {\"item_id\": 46, \"time\": 2435}, {\"item_id\": 46, \"time\": 2551}, {\"item_id\": 53, \"time\": 2846}, {\"item_id\": 114, \"time\": 2846}, {\"item_id\": 61, \"time\": 2846}, {\"item_id\": 25, \"time\": 2870}, {\"item_id\": 63, \"time\": 2870}, {\"item_id\": 17, \"time\": 2870}], \"gold_t\": [0, 277, 579, 955, 1294, 1720, 2017, 2436, 2738, 3058, 3443, 3834, 4093, 4435, 5278, 5573, 6029, 6437, 6660, 7297, 8332, 9025, 9287, 9674, 9934, 10379, 11425, 11815, 12405, 13329, 13429, 13642, 14314, 14579, 15280, 15847, 16545, 17890, 18652, 19323, 19766, 20037, 20347, 20715, 20815, 21108, 23114, 25946, 26246, 26723, 26811], \"obs_log\": [], \"sen_log\": [], \"ability_upgrades\": [{\"time\": 51, \"level\": 1, \"ability\": 5334}, {\"time\": 131, \"level\": 2, \"ability\": 5335}, {\"time\": 204, \"level\": 3, \"ability\": 5334}, {\"time\": 319, \"level\": 4, \"ability\": 5335}, {\"time\": 451, \"level\": 5, \"ability\": 5335}, {\"time\": 528, \"level\": 6, \"ability\": 5337}, {\"time\": 639, \"level\": 7, \"ability\": 5335}, {\"time\": 731, \"level\": 8, \"ability\": 5336}, {\"time\": 897, \"level\": 9, \"ability\": 5334}, {\"time\": 1004, \"level\": 10, \"ability\": 5334}, {\"time\": 1093, \"level\": 11, \"ability\": 5337}, {\"time\": 1314, \"level\": 12, \"ability\": 5002}, {\"time\": 1400, \"level\": 13, \"ability\": 5336}, {\"time\": 1618, \"level\": 14, \"ability\": 5336}, {\"time\": 1639, \"level\": 15, \"ability\": 5336}, {\"time\": 1870, \"level\": 16, \"ability\": 5337}, {\"time\": 2037, \"level\": 17, \"ability\": 5002}, {\"time\": 2179, \"level\": 18, \"ability\": 5002}, {\"time\": 2284, \"level\": 19, \"ability\": 5002}, {\"time\": 2323, \"level\": 20, \"ability\": 5002}, {\"time\": 2531, \"level\": 21, \"ability\": 5002}, {\"time\": 2808, \"level\": 22, \"ability\": 5002}, {\"time\": 2861, \"level\": 23, \"ability\": 5002}, {\"time\": 2861, \"level\": 24, \"ability\": 5002}], \"kills_log\": [{\"unit\": \"npc_dota_hero_viper\", \"time\": 831, \"player\": 7}, {\"unit\": \"npc_dota_hero_phoenix\", \"time\": 1014, \"player\": 5}, {\"unit\": \"npc_dota_hero_skeleton_king\", \"time\": 1155, \"player\": 8}, {\"unit\": \"npc_dota_hero_juggernaut\", \"time\": 1162, \"player\": 6}, {\"unit\": \"npc_dota_hero_jakiro\", \"time\": 1525, \"player\": 9}, {\"unit\": \"npc_dota_hero_skeleton_king\", \"time\": 1892, \"player\": 8}, {\"unit\": \"npc_dota_hero_skeleton_king\", \"time\": 2121, \"player\": 8}, {\"unit\": \"npc_dota_hero_jakiro\", \"time\": 2336, \"player\": 9}, {\"unit\": \"npc_dota_hero_skeleton_king\", \"time\": 2536, \"player\": 8}, {\"unit\": \"npc_dota_hero_skeleton_king\", \"time\": 2743, \"player\": 8}, {\"unit\": \"npc_dota_hero_juggernaut\", \"time\": 2758, \"player\": 6}, {\"unit\": \"npc_dota_hero_viper\", \"time\": 2762, \"player\": 7}, {\"unit\": \"npc_dota_hero_juggernaut\", \"time\": 2785, \"player\": 6}, {\"unit\": \"npc_dota_hero_jakiro\", \"time\": 2789, \"player\": 9}], \"hero_id\": 67}, {\"lh_t\": [0, 0, 2, 2, 2, 2, 2, 4, 4, 6, 7, 7, 7, 10, 10, 10, 18, 18, 18, 18, 18, 18, 18, 18, 18, 18, 19, 19, 21, 23, 23, 24, 26, 31, 31, 31, 31, 32, 41, 41, 43, 43, 43, 43, 50, 52, 52, 54, 57, 60, 61], \"buyback_log\": [], \"xp_t\": [0, 13, 115, 177, 335, 523, 732, 1136, 1293, 1448, 1541, 1749, 1913, 2036, 2149, 2529, 3782, 3862, 5315, 5538, 5904, 6176, 7653, 7653, 8908, 10085, 11708, 12032, 12159, 12697, 12828, 12884, 13916, 17113, 17113, 17319, 17411, 20269, 20661, 23610, 24090, 24090, 26050, 26050, 26236, 26494, 26494, 26609, 26937, 27163, 27223], \"purchase_log\": [{\"item_id\": 45, \"time\": -84}, {\"item_id\": 44, \"time\": -78}, {\"item_id\": 39, \"time\": -76}, {\"item_id\": 38, \"time\": -75}, {\"item_id\": 38, \"time\": -75}, {\"item_id\": 16, \"time\": -57}, {\"item_id\": 16, \"time\": -54}, {\"item_id\": 84, \"time\": 181}, {\"item_id\": 29, \"time\": 300}, {\"item_id\": 46, \"time\": 365}, {\"item_id\": 46, \"time\": 585}, {\"item_id\": 59, \"time\": 766}, {\"item_id\": 180, \"time\": 811}, {\"item_id\": 46, \"time\": 1063}, {\"item_id\": 20, \"time\": 1068}, {\"item_id\": 36, \"time\": 1068}, {\"item_id\": 34, \"time\": 1068}, {\"item_id\": 46, \"time\": 1094}, {\"item_id\": 1, \"time\": 1289}, {\"item_id\": 21, \"time\": 1433}, {\"item_id\": 46, \"time\": 1537}, {\"item_id\": 60, \"time\": 1753}, {\"item_id\": 46, \"time\": 1896}, {\"item_id\": 23, \"time\": 1967}, {\"item_id\": 22, \"time\": 1967}, {\"item_id\": 108, \"time\": 1972}, {\"item_id\": 58, \"time\": 2290}], \"gold_t\": [0, 99, 243, 343, 499, 599, 872, 1044, 1144, 1320, 1456, 1556, 1656, 1827, 1927, 2105, 2905, 3005, 3897, 4157, 4579, 4769, 5427, 5527, 6203, 6501, 7082, 7284, 7474, 7915, 8015, 8159, 8918, 9882, 10142, 10242, 10542, 12195, 12487, 13335, 13512, 13612, 14351, 14451, 14686, 14877, 14977, 15116, 15362, 15515, 15606], \"obs_log\": [{\"xy\": [111, 130], \"time\": 1711}, {\"xy\": [136, 164], \"time\": 1732}], \"sen_log\": [], \"ability_upgrades\": [{\"time\": 54, \"level\": 1, \"ability\": 5462}, {\"time\": 267, \"level\": 2, \"ability\": 5463}, {\"time\": 351, \"level\": 3, \"ability\": 5462}, {\"time\": 472, \"level\": 4, \"ability\": 5464}, {\"time\": 598, \"level\": 5, \"ability\": 5462}, {\"time\": 821, \"level\": 6, \"ability\": 5465}, {\"time\": 971, \"level\": 7, \"ability\": 5462}, {\"time\": 972, \"level\": 8, \"ability\": 5463}, {\"time\": 1144, \"level\": 9, \"ability\": 5463}, {\"time\": 1150, \"level\": 10, \"ability\": 5463}, {\"time\": 1278, \"level\": 11, \"ability\": 5465}, {\"time\": 1479, \"level\": 12, \"ability\": 5464}, {\"time\": 1531, \"level\": 13, \"ability\": 5464}, {\"time\": 1588, \"level\": 14, \"ability\": 5464}, {\"time\": 1640, \"level\": 15, \"ability\": 5002}, {\"time\": 1986, \"level\": 16, \"ability\": 5465}, {\"time\": 1987, \"level\": 17, \"ability\": 5002}, {\"time\": 2019, \"level\": 18, \"ability\": 5002}, {\"time\": 2279, \"level\": 19, \"ability\": 5002}, {\"time\": 2357, \"level\": 20, \"ability\": 5002}, {\"time\": 2403, \"level\": 21, \"ability\": 5002}, {\"time\": 2578, \"level\": 22, \"ability\": 5002}], \"kills_log\": [{\"unit\": \"npc_dota_hero_jakiro\", \"time\": 905, \"player\": 9}, {\"unit\": \"npc_dota_hero_phoenix\", \"time\": 1140, \"player\": 5}, {\"unit\": \"npc_dota_hero_viper\", \"time\": 1287, \"player\": 7}, {\"unit\": \"npc_dota_hero_jakiro\", \"time\": 1409, \"player\": 9}, {\"unit\": \"npc_dota_hero_phoenix\", \"time\": 2508, \"player\": 5}], \"hero_id\": 88}, {\"lh_t\": [0, 2, 7, 10, 13, 14, 19, 19, 25, 26, 28, 29, 31, 32, 32, 33, 33, 33, 33, 33, 33, 37, 37, 44, 44, 44, 44, 44, 47, 48, 48, 48, 49, 57, 58, 60, 60, 60, 69, 71, 71, 78, 79, 79, 87, 93, 93, 97, 105, 112, 112], \"buyback_log\": [{\"time\": 2779, \"key\": null}], \"xp_t\": [0, 268, 691, 1000, 1433, 1722, 2208, 2381, 2765, 2930, 3425, 3649, 3938, 4215, 4246, 4323, 4923, 5346, 5346, 5346, 6177, 6487, 7951, 8431, 8876, 10031, 10878, 10878, 11208, 11258, 11348, 11404, 11443, 14201, 14490, 14612, 14642, 17121, 17508, 18337, 18361, 19027, 19721, 19721, 20399, 20724, 22654, 26545, 26841, 27155, 27155], \"purchase_log\": [{\"item_id\": 16, \"time\": -83}, {\"item_id\": 16, \"time\": -83}, {\"item_id\": 41, \"time\": 61}, {\"item_id\": 29, \"time\": 169}, {\"item_id\": 46, \"time\": 262}, {\"item_id\": 46, \"time\": 400}, {\"item_id\": 46, \"time\": 406}, {\"item_id\": 59, \"time\": 564}, {\"item_id\": 180, \"time\": 570}, {\"item_id\": 46, \"time\": 786}, {\"item_id\": 46, \"time\": 786}, {\"item_id\": 46, \"time\": 860}, {\"item_id\": 46, \"time\": 1062}, {\"item_id\": 21, \"time\": 1169}, {\"item_id\": 46, \"time\": 1204}, {\"item_id\": 23, \"time\": 1404}, {\"item_id\": 46, \"time\": 1453}, {\"item_id\": 60, \"time\": 1501}, {\"item_id\": 46, \"time\": 1532}, {\"item_id\": 22, \"time\": 1932}, {\"item_id\": 108, \"time\": 1950}, {\"item_id\": 46, \"time\": 1951}, {\"item_id\": 61, \"time\": 2015}, {\"item_id\": 58, \"time\": 2327}, {\"item_id\": 60, \"time\": 2329}, {\"item_id\": 129, \"time\": 2334}, {\"item_id\": 235, \"time\": 2334}, {\"item_id\": 46, \"time\": 2578}, {\"item_id\": 37, \"time\": 2715}], \"gold_t\": [0, 178, 475, 698, 911, 1051, 1483, 1645, 1976, 2112, 2291, 2503, 2676, 2891, 2991, 3226, 3515, 3798, 3898, 4158, 4817, 5123, 5860, 6278, 6607, 7405, 7898, 7998, 8210, 8520, 8620, 8720, 8867, 10914, 11215, 11365, 11665, 14151, 14456, 14921, 15021, 15399, 15670, 15770, 16211, 16489, 17618, 19218, 19408, 19659, 19728], \"obs_log\": [], \"sen_log\": [], \"ability_upgrades\": [{\"time\": 0, \"level\": 1, \"ability\": 5110}, {\"time\": 98, \"level\": 2, \"ability\": 5111}, {\"time\": 156, \"level\": 3, \"ability\": 5111}, {\"time\": 215, \"level\": 4, \"ability\": 5112}, {\"time\": 296, \"level\": 5, \"ability\": 5111}, {\"time\": 391, \"level\": 6, \"ability\": 5113}, {\"time\": 507, \"level\": 7, \"ability\": 5111}, {\"time\": 629, \"level\": 8, \"ability\": 5112}, {\"time\": 996, \"level\": 9, \"ability\": 5112}, {\"time\": 1200, \"level\": 10, \"ability\": 5112}, {\"time\": 1220, \"level\": 11, \"ability\": 5113}, {\"time\": 1414, \"level\": 12, \"ability\": 5110}, {\"time\": 1527, \"level\": 13, \"ability\": 5110}, {\"time\": 1567, \"level\": 14, \"ability\": 5002}, {\"time\": 1986, \"level\": 15, \"ability\": 5110}, {\"time\": 2004, \"level\": 16, \"ability\": 5113}, {\"time\": 2275, \"level\": 17, \"ability\": 5002}, {\"time\": 2277, \"level\": 18, \"ability\": 5002}, {\"time\": 2506, \"level\": 19, \"ability\": 5002}, {\"time\": 2809, \"level\": 20, \"ability\": 5002}, {\"time\": 2826, \"level\": 21, \"ability\": 5002}, {\"time\": 2851, \"level\": 22, \"ability\": 5002}], \"kills_log\": [{\"unit\": \"npc_dota_hero_phoenix\", \"time\": 349, \"player\": 5}, {\"unit\": \"npc_dota_hero_phoenix\", \"time\": 935, \"player\": 5}, {\"unit\": \"npc_dota_hero_jakiro\", \"time\": 1158, \"player\": 9}, {\"unit\": \"npc_dota_hero_phoenix\", \"time\": 1495, \"player\": 5}, {\"unit\": \"npc_dota_hero_skeleton_king\", \"time\": 1506, \"player\": 8}, {\"unit\": \"npc_dota_hero_skeleton_king\", \"time\": 1829, \"player\": 8}, {\"unit\": \"npc_dota_hero_viper\", \"time\": 1924, \"player\": 7}, {\"unit\": \"npc_dota_hero_phoenix\", \"time\": 1936, \"player\": 5}, {\"unit\": \"npc_dota_hero_juggernaut\", \"time\": 2210, \"player\": 6}, {\"unit\": \"npc_dota_hero_skeleton_king\", \"time\": 2210, \"player\": 8}, {\"unit\": \"npc_dota_hero_viper\", \"time\": 2213, \"player\": 7}, {\"unit\": \"npc_dota_hero_jakiro\", \"time\": 2215, \"player\": 9}, {\"unit\": \"npc_dota_hero_phoenix\", \"time\": 2339, \"player\": 5}, {\"unit\": \"npc_dota_hero_skeleton_king\", \"time\": 2492, \"player\": 8}, {\"unit\": \"npc_dota_hero_phoenix\", \"time\": 2763, \"player\": 5}], \"hero_id\": 22}, {\"lh_t\": [0, 0, 0, 0, 0, 0, 0, 0, 0, 0, 0, 0, 0, 1, 2, 3, 4, 4, 4, 8, 8, 13, 13, 14, 15, 15, 15, 15, 16, 18, 19, 19, 19, 19, 19, 19, 20, 21, 25, 27, 27, 27, 27, 30, 35, 42, 42, 45, 48, 51, 51], \"buyback_log\": [], \"xp_t\": [0, 75, 296, 480, 591, 768, 1008, 1028, 1218, 1218, 1218, 1393, 1568, 1733, 2746, 3009, 3261, 3554, 3878, 4441, 5011, 5180, 5180, 5345, 6600, 6682, 7439, 7511, 7638, 7896, 8008, 8064, 9057, 9057, 9096, 9168, 9198, 10909, 10961, 10961, 11093, 11180, 11849, 11874, 12493, 12705, 12705, 12807, 13001, 13123, 13175], \"purchase_log\": [{\"item_id\": 42, \"time\": -82}, {\"item_id\": 44, \"time\": -81}, {\"item_id\": 42, \"time\": -69}, {\"item_id\": 16, \"time\": -57}, {\"item_id\": 16, \"time\": -57}, {\"item_id\": 34, \"time\": -51}, {\"item_id\": 38, \"time\": -49}, {\"item_id\": 181, \"time\": 165}, {\"item_id\": 20, \"time\": 314}, {\"item_id\": 36, \"time\": 400}, {\"item_id\": 29, \"time\": 441}, {\"item_id\": 46, \"time\": 453}, {\"item_id\": 42, \"time\": 455}, {\"item_id\": 42, \"time\": 455}, {\"item_id\": 42, \"time\": 919}, {\"item_id\": 42, \"time\": 1042}, {\"item_id\": 42, \"time\": 1042}, {\"item_id\": 46, \"time\": 1044}, {\"item_id\": 60, \"time\": 1058}, {\"item_id\": 21, \"time\": 1204}, {\"item_id\": 42, \"time\": 1265}, {\"item_id\": 43, \"time\": 1359}, {\"item_id\": 42, \"time\": 1435}, {\"item_id\": 42, \"time\": 1436}, {\"item_id\": 23, \"time\": 1668}, {\"item_id\": 22, \"time\": 1904}, {\"item_id\": 108, \"time\": 1913}, {\"item_id\": 42, \"time\": 1933}, {\"item_id\": 42, \"time\": 1938}, {\"item_id\": 42, \"time\": 2242}, {\"item_id\": 59, \"time\": 2248}, {\"item_id\": 180, \"time\": 2258}, {\"item_id\": 46, \"time\": 2434}, {\"item_id\": 4, \"time\": 2441}, {\"item_id\": 28, \"time\": 2441}, {\"item_id\": 187, \"time\": 2441}], \"gold_t\": [0, 99, 199, 299, 399, 557, 760, 860, 1194, 1294, 1394, 1494, 1594, 1739, 2299, 2437, 2579, 2814, 3308, 3728, 4201, 4490, 4590, 4733, 5379, 5479, 5820, 5920, 6020, 6367, 6508, 6608, 7425, 7525, 7785, 7885, 8225, 9816, 10080, 10265, 10365, 10465, 10767, 10930, 11173, 11463, 11563, 11724, 11896, 12062, 12131], \"obs_log\": [{\"xy\": [145, 118], \"time\": 4}, {\"xy\": [121, 136], \"time\": 514}, {\"xy\": [98, 154], \"time\": 675}, {\"xy\": [120, 137], \"time\": 976}, {\"xy\": [148, 107], \"time\": 1195}, {\"xy\": [111, 130], \"time\": 1568}, {\"xy\": [128, 146], \"time\": 1592}, {\"xy\": [115, 93], \"time\": 1991}, {\"xy\": [144, 118], \"time\": 2006}, {\"xy\": [148, 107], \"time\": 2287}], \"sen_log\": [{\"xy\": [137, 90], \"time\": 1391}, {\"xy\": [144, 91], \"time\": 1400}], \"ability_upgrades\": [{\"time\": 43, \"level\": 1, \"ability\": 5347}, {\"time\": 147, \"level\": 2, \"ability\": 5345}, {\"time\": 253, \"level\": 3, \"ability\": 5347}, {\"time\": 419, \"level\": 4, \"ability\": 5346}, {\"time\": 723, \"level\": 5, \"ability\": 5347}, {\"time\": 894, \"level\": 6, \"ability\": 5348}, {\"time\": 896, \"level\": 7, \"ability\": 5346}, {\"time\": 1011, \"level\": 8, \"ability\": 5346}, {\"time\": 1208, \"level\": 9, \"ability\": 5346}, {\"time\": 1463, \"level\": 10, \"ability\": 5347}, {\"time\": 1478, \"level\": 11, \"ability\": 5348}, {\"time\": 1987, \"level\": 12, \"ability\": 5345}, {\"time\": 1988, \"level\": 13, \"ability\": 5345}, {\"time\": 2284, \"level\": 14, \"ability\": 5345}, {\"time\": 2647, \"level\": 15, \"ability\": 5002}], \"kills_log\": [{\"unit\": \"npc_dota_hero_jakiro\", \"time\": 446, \"player\": 9}, {\"unit\": \"npc_dota_hero_skeleton_king\", \"time\": 1024, \"player\": 8}, {\"unit\": \"npc_dota_hero_skeleton_king\", \"time\": 1838, \"player\": 8}, {\"unit\": \"npc_dota_hero_phoenix\", \"time\": 2204, \"player\": 5}], \"hero_id\": 68}, {\"lh_t\": [0, 0, 1, 1, 1, 1, 4, 5, 5, 10, 11, 13, 17, 21, 21, 21, 26, 28, 29, 34, 34, 35, 35, 41, 41, 42, 45, 54, 73, 75, 76, 79, 82, 100, 107, 113, 113, 118, 124, 129, 144, 156, 157, 157, 167, 167, 167, 172, 183, 195, 200], \"buyback_log\": [{\"time\": 2926, \"key\": null}], \"xp_t\": [0, 31, 299, 423, 423, 454, 908, 1217, 1500, 2083, 2413, 2588, 2776, 3707, 3769, 3815, 4178, 4562, 6911, 7134, 8535, 8907, 9284, 9676, 10121, 10285, 10522, 10924, 12140, 12388, 12438, 12556, 14868, 15334, 15706, 15948, 15978, 18877, 19082, 19320, 19601, 19905, 23153, 24304, 24553, 24640, 26595, 30335, 30655, 30841, 30942], \"purchase_log\": [{\"item_id\": 182, \"time\": -83}, {\"item_id\": 44, \"time\": -81}, {\"item_id\": 39, \"time\": -80}, {\"item_id\": 38, \"time\": -79}, {\"item_id\": 38, \"time\": -77}, {\"item_id\": 46, \"time\": 200}, {\"item_id\": 29, \"time\": 365}, {\"item_id\": 46, \"time\": 450}, {\"item_id\": 46, \"time\": 541}, {\"item_id\": 46, \"time\": 712}, {\"item_id\": 180, \"time\": 752}, {\"item_id\": 59, \"time\": 752}, {\"item_id\": 46, \"time\": 768}, {\"item_id\": 46, \"time\": 768}, {\"item_id\": 46, \"time\": 856}, {\"item_id\": 46, \"time\": 909}, {\"item_id\": 46, \"time\": 1041}, {\"item_id\": 28, \"time\": 1042}, {\"item_id\": 27, \"time\": 1090}, {\"item_id\": 178, \"time\": 1127}, {\"item_id\": 60, \"time\": 1205}, {\"item_id\": 46, \"time\": 1207}, {\"item_id\": 59, \"time\": 1312}, {\"item_id\": 46, \"time\": 1427}, {\"item_id\": 46, \"time\": 1427}, {\"item_id\": 46, \"time\": 1527}, {\"item_id\": 61, \"time\": 1730}, {\"item_id\": 129, \"time\": 1745}, {\"item_id\": 121, \"time\": 1745}, {\"item_id\": 46, \"time\": 1931}, {\"item_id\": 46, \"time\": 1931}, {\"item_id\": 60, \"time\": 1991}, {\"item_id\": 58, \"time\": 2582}, {\"item_id\": 61, \"time\": 2851}, {\"item_id\": 180, \"time\": 2866}, {\"item_id\": 180, \"time\": 2873}, {\"item_id\": 129, \"time\": 2878}, {\"item_id\": 235, \"time\": 2879}], \"gold_t\": [0, 99, 243, 343, 443, 543, 765, 909, 1151, 1458, 1599, 1782, 2074, 2671, 2771, 2965, 3269, 3615, 5045, 5512, 6154, 6299, 6740, 7082, 7628, 7774, 7995, 8410, 9213, 9568, 9713, 9938, 11391, 11876, 12354, 12704, 13004, 13305, 13531, 13735, 14162, 14519, 15912, 16012, 16321, 16421, 17783, 18875, 19200, 19521, 19627], \"obs_log\": [{\"xy\": [89, 161], \"time\": -30}], \"sen_log\": [], \"ability_upgrades\": [{\"time\": 101, \"level\": 1, \"ability\": 5526}, {\"time\": 164, \"level\": 2, \"ability\": 5525}, {\"time\": 365, \"level\": 3, \"ability\": 5525}, {\"time\": 417, \"level\": 4, \"ability\": 5524}, {\"time\": 506, \"level\": 5, \"ability\": 5525}, {\"time\": 580, \"level\": 6, \"ability\": 5527}, {\"time\": 721, \"level\": 7, \"ability\": 5524}, {\"time\": 802, \"level\": 8, \"ability\": 5524}, {\"time\": 1075, \"level\": 9, \"ability\": 5524}, {\"time\": 1139, \"level\": 10, \"ability\": 5527}, {\"time\": 1141, \"level\": 11, \"ability\": 5526}, {\"time\": 1223, \"level\": 12, \"ability\": 5525}, {\"time\": 1349, \"level\": 13, \"ability\": 5526}, {\"time\": 1611, \"level\": 14, \"ability\": 5002}, {\"time\": 1737, \"level\": 15, \"ability\": 5526}, {\"time\": 1953, \"level\": 16, \"ability\": 5527}, {\"time\": 2022, \"level\": 17, \"ability\": 5002}, {\"time\": 2271, \"level\": 18, \"ability\": 5002}, {\"time\": 2283, \"level\": 19, \"ability\": 5002}, {\"time\": 2563, \"level\": 20, \"ability\": 5002}, {\"time\": 2564, \"level\": 21, \"ability\": 5002}, {\"time\": 2809, \"level\": 22, \"ability\": 5002}, {\"time\": 2833, \"level\": 23, \"ability\": 5002}, {\"time\": 2859, \"level\": 24, \"ability\": 5002}], \"kills_log\": [{\"unit\": \"npc_dota_hero_jakiro\", \"time\": 736, \"player\": 9}, {\"unit\": \"npc_dota_hero_jakiro\", \"time\": 1070, \"player\": 9}, {\"unit\": \"npc_dota_hero_viper\", \"time\": 1077, \"player\": 7}, {\"unit\": \"npc_dota_hero_jakiro\", \"time\": 1278, \"player\": 9}, {\"unit\": \"npc_dota_hero_viper\", \"time\": 1392, \"player\": 7}, {\"unit\": \"npc_dota_hero_skeleton_king\", \"time\": 1484, \"player\": 8}, {\"unit\": \"npc_dota_hero_juggernaut\", \"time\": 1902, \"player\": 6}, {\"unit\": \"npc_dota_hero_shredder\", \"time\": 1907, \"player\": 4}, {\"unit\": \"npc_dota_hero_jakiro\", \"time\": 2495, \"player\": 9}, {\"unit\": \"npc_dota_hero_viper\", \"time\": 2503, \"player\": 7}], \"hero_id\": 98}, {\"lh_t\": [0, 0, 1, 2, 3, 3, 3, 4, 11, 11, 11, 11, 12, 14, 18, 18, 19, 19, 22, 24, 25, 33, 34, 39, 43, 43, 43, 43, 43, 43, 44, 44, 44, 45, 45, 47, 48, 55, 55, 57, 57, 62, 62, 62, 62, 62, 62, 62, 62, 62, 67], \"buyback_log\": [], \"xp_t\": [0, 124, 329, 525, 751, 782, 813, 937, 1492, 1770, 1894, 1894, 2327, 2611, 3168, 3426, 3906, 4031, 4330, 4487, 4580, 5302, 7560, 8000, 11011, 11787, 11787, 11872, 12052, 12883, 13085, 13785, 14337, 14337, 14337, 14617, 15827, 16356, 16356, 16768, 16768, 17067, 18276, 18276, 18276, 19840, 21017, 21017, 21017, 21034, 22427], \"purchase_log\": [{\"item_id\": 13, \"time\": -79}, {\"item_id\": 13, \"time\": -79}, {\"item_id\": 44, \"time\": -79}, {\"item_id\": 39, \"time\": -78}, {\"item_id\": 28, \"time\": 226}, {\"item_id\": 92, \"time\": 294}, {\"item_id\": 216, \"time\": 310}, {\"item_id\": 29, \"time\": 498}, {\"item_id\": 39, \"time\": 547}, {\"item_id\": 27, \"time\": 621}, {\"item_id\": 12, \"time\": 724}, {\"item_id\": 46, \"time\": 764}, {\"item_id\": 214, \"time\": 772}, {\"item_id\": 46, \"time\": 960}, {\"item_id\": 27, \"time\": 1054}, {\"item_id\": 46, \"time\": 1179}, {\"item_id\": 23, \"time\": 1309}, {\"item_id\": 102, \"time\": 1411}, {\"item_id\": 46, \"time\": 1583}, {\"item_id\": 21, \"time\": 1596}, {\"item_id\": 17, \"time\": 1596}, {\"item_id\": 46, \"time\": 1788}, {\"item_id\": 162, \"time\": 1814}, {\"item_id\": 46, \"time\": 2041}, {\"item_id\": 53, \"time\": 2262}, {\"item_id\": 46, \"time\": 2281}, {\"item_id\": 46, \"time\": 2615}, {\"item_id\": 114, \"time\": 2869}, {\"item_id\": 61, \"time\": 2869}], \"gold_t\": [0, 99, 242, 382, 520, 620, 720, 856, 1272, 1372, 1472, 1572, 1716, 2063, 2331, 2591, 2931, 3031, 3256, 3470, 3612, 4028, 4629, 5111, 6573, 7061, 7161, 7261, 7361, 7779, 8124, 8396, 9236, 9375, 9475, 9647, 10280, 11736, 11836, 12017, 12117, 12420, 12834, 12934, 13409, 14259, 15127, 15507, 15607, 15707, 16310], \"obs_log\": [{\"xy\": [158, 101], \"time\": 8}], \"sen_log\": [{\"xy\": [153, 92], \"time\": 118}], \"ability_upgrades\": [{\"time\": -23, \"level\": 1, \"ability\": 5623}, {\"time\": 150, \"level\": 2, \"ability\": 5625}, {\"time\": 254, \"level\": 3, \"ability\": 5625}, {\"time\": 483, \"level\": 4, \"ability\": 5626}, {\"time\": 541, \"level\": 5, \"ability\": 5625}, {\"time\": 750, \"level\": 6, \"ability\": 5630}, {\"time\": 838, \"level\": 7, \"ability\": 5625}, {\"time\": 925, \"level\": 8, \"ability\": 5626}, {\"time\": 1148, \"level\": 9, \"ability\": 5626}, {\"time\": 1359, \"level\": 10, \"ability\": 5626}, {\"time\": 1360, \"level\": 11, \"ability\": 5630}, {\"time\": 1481, \"level\": 12, \"ability\": 5623}, {\"time\": 1482, \"level\": 13, \"ability\": 5623}, {\"time\": 1482, \"level\": 14, \"ability\": 5623}, {\"time\": 1716, \"level\": 15, \"ability\": 5002}, {\"time\": 1912, \"level\": 16, \"ability\": 5630}, {\"time\": 2305, \"level\": 17, \"ability\": 5002}, {\"time\": 2511, \"level\": 18, \"ability\": 5002}, {\"time\": 2724, \"level\": 19, \"ability\": 5002}, {\"time\": 2827, \"level\": 20, \"ability\": 5002}], \"kills_log\": [{\"unit\": \"npc_dota_hero_spectre\", \"time\": 1394, \"player\": 0}, {\"unit\": \"npc_dota_hero_zuus\", \"time\": 1404, \"player\": 2}, {\"unit\": \"npc_dota_hero_nyx_assassin\", \"time\": 1411, \"player\": 1}, {\"unit\": \"npc_dota_hero_shredder\", \"time\": 1488, \"player\": 4}], \"hero_id\": 110}, {\"lh_t\": [0, 4, 7, 12, 18, 25, 29, 36, 41, 44, 51, 59, 63, 73, 82, 86, 95, 108, 122, 130, 130, 131, 136, 149, 161, 172, 189, 199, 216, 218, 228, 232, 236, 236, 242, 260, 263, 266, 266, 268, 279, 290, 299, 299, 315, 327, 327, 327, 327, 331, 331], \"buyback_log\": [{\"time\": 2762, \"key\": null}], \"xp_t\": [0, 113, 323, 529, 795, 1128, 1254, 1542, 2194, 2506, 2672, 2849, 3814, 4443, 4891, 5441, 5786, 6689, 7606, 8194, 9175, 9344, 9630, 10469, 11388, 12060, 13138, 13667, 14369, 16680, 16895, 18355, 19038, 19038, 19466, 19896, 21138, 21667, 21667, 22136, 23679, 24428, 28559, 32779, 32779, 32779, 32779, 32779, 32779, 32779, 32779], \"purchase_log\": [{\"item_id\": 20, \"time\": -82}, {\"item_id\": 16, \"time\": -82}, {\"item_id\": 16, \"time\": -82}, {\"item_id\": 36, \"time\": -82}, {\"item_id\": 34, \"time\": -82}, {\"item_id\": 14, \"time\": -79}, {\"item_id\": 14, \"time\": -79}, {\"item_id\": 14, \"time\": -75}, {\"item_id\": 14, \"time\": -75}, {\"item_id\": 71, \"time\": -75}, {\"item_id\": 182, \"time\": -75}, {\"item_id\": 20, \"time\": -73}, {\"item_id\": 13, \"time\": -73}, {\"item_id\": 73, \"time\": -73}, {\"item_id\": 44, \"time\": -71}, {\"item_id\": 39, \"time\": -70}, {\"item_id\": 38, \"time\": -68}, {\"item_id\": 14, \"time\": -67}, {\"item_id\": 20, \"time\": -63}, {\"item_id\": 29, \"time\": 113}, {\"item_id\": 2, \"time\": 218}, {\"item_id\": 50, \"time\": 218}, {\"item_id\": 2, \"time\": 218}, {\"item_id\": 26, \"time\": 389}, {\"item_id\": 172, \"time\": 498}, {\"item_id\": 46, \"time\": 504}, {\"item_id\": 28, \"time\": 573}, {\"item_id\": 12, \"time\": 585}, {\"item_id\": 75, \"time\": 615}, {\"item_id\": 88, \"time\": 615}, {\"item_id\": 212, \"time\": 615}, {\"item_id\": 22, \"time\": 736}, {\"item_id\": 18, \"time\": 736}, {\"item_id\": 170, \"time\": 794}, {\"item_id\": 21, \"time\": 900}, {\"item_id\": 46, \"time\": 902}, {\"item_id\": 17, \"time\": 959}, {\"item_id\": 162, \"time\": 1052}, {\"item_id\": 154, \"time\": 1052}, {\"item_id\": 46, \"time\": 1216}, {\"item_id\": 46, \"time\": 1217}, {\"item_id\": 24, \"time\": 1574}, {\"item_id\": 24, \"time\": 1575}, {\"item_id\": 60, \"time\": 1705}, {\"item_id\": 181, \"time\": 1706}, {\"item_id\": 160, \"time\": 1763}, {\"item_id\": 17, \"time\": 1991}, {\"item_id\": 7, \"time\": 1991}, {\"item_id\": 143, \"time\": 1991}, {\"item_id\": 208, \"time\": 2315}, {\"item_id\": 54, \"time\": 2315}, {\"item_id\": 29, \"time\": 2708}, {\"item_id\": 48, \"time\": 2708}, {\"item_id\": 220, \"time\": 2711}, {\"item_id\": 21, \"time\": 2755}, {\"item_id\": 8, \"time\": 2755}, {\"item_id\": 116, \"time\": 2755}], \"gold_t\": [0, 260, 486, 797, 1468, 1850, 2113, 2491, 3138, 3592, 3975, 4424, 5306, 5875, 6366, 7145, 7669, 8253, 8948, 9311, 10142, 10314, 10653, 11235, 11848, 12392, 13153, 13565, 14320, 15544, 16242, 17078, 18740, 18840, 19282, 20127, 21549, 22593, 22693, 22877, 23914, 24657, 27115, 28646, 29739, 31364, 32339, 33142, 33242, 33992, 34501], \"obs_log\": [], \"sen_log\": [], \"ability_upgrades\": [{\"time\": 92, \"level\": 1, \"ability\": 5028}, {\"time\": 137, \"level\": 2, \"ability\": 5027}, {\"time\": 231, \"level\": 3, \"ability\": 5029}, {\"time\": 325, \"level\": 4, \"ability\": 5002}, {\"time\": 463, \"level\": 5, \"ability\": 5002}, {\"time\": 517, \"level\": 6, \"ability\": 5030}, {\"time\": 641, \"level\": 7, \"ability\": 5002}, {\"time\": 763, \"level\": 8, \"ability\": 5002}, {\"time\": 835, \"level\": 9, \"ability\": 5002}, {\"time\": 948, \"level\": 10, \"ability\": 5027}, {\"time\": 1037, \"level\": 11, \"ability\": 5030}, {\"time\": 1212, \"level\": 12, \"ability\": 5002}, {\"time\": 1242, \"level\": 13, \"ability\": 5002}, {\"time\": 1437, \"level\": 14, \"ability\": 5027}, {\"time\": 1551, \"level\": 15, \"ability\": 5002}, {\"time\": 1652, \"level\": 16, \"ability\": 5030}, {\"time\": 1755, \"level\": 17, \"ability\": 5027}, {\"time\": 1870, \"level\": 18, \"ability\": 5002}, {\"time\": 1963, \"level\": 19, \"ability\": 5029}, {\"time\": 2212, \"level\": 20, \"ability\": 5029}, {\"time\": 2460, \"level\": 21, \"ability\": 5029}, {\"time\": 2589, \"level\": 22, \"ability\": 5028}, {\"time\": 2612, \"level\": 23, \"ability\": 5002}, {\"time\": 2612, \"level\": 24, \"ability\": 5028}, {\"time\": 2612, \"level\": 25, \"ability\": 5028}], \"kills_log\": [{\"unit\": \"npc_dota_hero_shredder\", \"time\": 198, \"player\": 4}, {\"unit\": \"npc_dota_hero_ancient_apparition\", \"time\": 455, \"player\": 3}, {\"unit\": \"npc_dota_hero_shredder\", \"time\": 530, \"player\": 4}, {\"unit\": \"npc_dota_hero_shredder\", \"time\": 694, \"player\": 4}, {\"unit\": \"npc_dota_hero_ancient_apparition\", \"time\": 699, \"player\": 3}, {\"unit\": \"npc_dota_hero_shredder\", \"time\": 882, \"player\": 4}, {\"unit\": \"npc_dota_hero_nyx_assassin\", \"time\": 1144, \"player\": 1}, {\"unit\": \"npc_dota_hero_zuus\", \"time\": 1160, \"player\": 2}, {\"unit\": \"npc_dota_hero_zuus\", \"time\": 1691, \"player\": 2}, {\"unit\": \"npc_dota_hero_spectre\", \"time\": 1733, \"player\": 0}, {\"unit\": \"npc_dota_hero_nyx_assassin\", \"time\": 1836, \"player\": 1}, {\"unit\": \"npc_dota_hero_spectre\", \"time\": 1900, \"player\": 0}, {\"unit\": \"npc_dota_hero_zuus\", \"time\": 2128, \"player\": 2}, {\"unit\": \"npc_dota_hero_shredder\", \"time\": 2131, \"player\": 4}, {\"unit\": \"npc_dota_hero_ancient_apparition\", \"time\": 2136, \"player\": 3}, {\"unit\": \"npc_dota_hero_nyx_assassin\", \"time\": 2392, \"player\": 1}, {\"unit\": \"npc_dota_hero_spectre\", \"time\": 2490, \"player\": 0}, {\"unit\": \"npc_dota_hero_zuus\", \"time\": 2499, \"player\": 2}, {\"unit\": \"npc_dota_hero_ancient_apparition\", \"time\": 2509, \"player\": 3}, {\"unit\": \"npc_dota_hero_nyx_assassin\", \"time\": 2517, \"player\": 1}, {\"unit\": \"npc_dota_hero_shredder\", \"time\": 2527, \"player\": 4}, {\"unit\": \"npc_dota_hero_spectre\", \"time\": 2546, \"player\": 0}, {\"unit\": \"npc_dota_hero_shredder\", \"time\": 2651, \"player\": 4}, {\"unit\": \"npc_dota_hero_ancient_apparition\", \"time\": 2735, \"player\": 3}, {\"unit\": \"npc_dota_hero_zuus\", \"time\": 2771, \"player\": 2}, {\"unit\": \"npc_dota_hero_shredder\", \"time\": 2773, \"player\": 4}, {\"unit\": \"npc_dota_hero_shredder\", \"time\": 2923, \"player\": 4}, {\"unit\": \"npc_dota_hero_ancient_apparition\", \"time\": 2958, \"player\": 3}], \"hero_id\": 8}, {\"lh_t\": [0, 1, 6, 13, 18, 23, 29, 31, 32, 35, 38, 46, 51, 60, 63, 63, 72, 76, 83, 83, 83, 92, 92, 92, 92, 100, 108, 119, 123, 124, 125, 126, 127, 127, 127, 131, 134, 136, 136, 140, 143, 146, 146, 146, 146, 147, 151, 151, 153, 160, 160], \"buyback_log\": [], \"xp_t\": [0, 389, 781, 1235, 1689, 2502, 2925, 3296, 3420, 4440, 4605, 5209, 5601, 6204, 8330, 8392, 8934, 9059, 11950, 11950, 13432, 13714, 15196, 15196, 15196, 15800, 16480, 17148, 17521, 18303, 18441, 19726, 21154, 21154, 21193, 21499, 22496, 23025, 23025, 23432, 24650, 25131, 26468, 26468, 26468, 26687, 28010, 28010, 28060, 28552, 29817], \"purchase_log\": [{\"item_id\": 27, \"time\": -82}, {\"item_id\": 16, \"time\": -75}, {\"item_id\": 16, \"time\": -75}, {\"item_id\": 16, \"time\": -74}, {\"item_id\": 44, \"time\": -69}, {\"item_id\": 34, \"time\": 86}, {\"item_id\": 94, \"time\": 113}, {\"item_id\": 20, \"time\": 155}, {\"item_id\": 46, \"time\": 167}, {\"item_id\": 36, \"time\": 192}, {\"item_id\": 29, \"time\": 218}, {\"item_id\": 25, \"time\": 289}, {\"item_id\": 63, \"time\": 335}, {\"item_id\": 17, \"time\": 335}, {\"item_id\": 46, \"time\": 452}, {\"item_id\": 31, \"time\": 508}, {\"item_id\": 27, \"time\": 565}, {\"item_id\": 27, \"time\": 591}, {\"item_id\": 56, \"time\": 724}, {\"item_id\": 131, \"time\": 749}, {\"item_id\": 46, \"time\": 801}, {\"item_id\": 46, \"time\": 802}, {\"item_id\": 46, \"time\": 812}, {\"item_id\": 4, \"time\": 871}, {\"item_id\": 28, \"time\": 872}, {\"item_id\": 90, \"time\": 881}, {\"item_id\": 4, \"time\": 887}, {\"item_id\": 28, \"time\": 887}, {\"item_id\": 187, \"time\": 924}, {\"item_id\": 32, \"time\": 1071}, {\"item_id\": 229, \"time\": 1138}, {\"item_id\": 46, \"time\": 1346}, {\"item_id\": 60, \"time\": 1366}, {\"item_id\": 46, \"time\": 1454}, {\"item_id\": 21, \"time\": 1593}, {\"item_id\": 23, \"time\": 1654}, {\"item_id\": 46, \"time\": 1655}, {\"item_id\": 22, \"time\": 1655}, {\"item_id\": 46, \"time\": 1662}, {\"item_id\": 108, \"time\": 1699}, {\"item_id\": 24, \"time\": 2034}, {\"item_id\": 58, \"time\": 2263}, {\"item_id\": 57, \"time\": 2394}, {\"item_id\": 96, \"time\": 2407}, {\"item_id\": 46, \"time\": 2435}], \"gold_t\": [0, 238, 541, 922, 1223, 1894, 2236, 2423, 2561, 3257, 3475, 3931, 4233, 5018, 6372, 6632, 7331, 7594, 9637, 9737, 10154, 10451, 11468, 11648, 11748, 12195, 12613, 13193, 13598, 14319, 14666, 15518, 16885, 16985, 17085, 17390, 17981, 19368, 19468, 19875, 20277, 20495, 20861, 20961, 21436, 22195, 23586, 23966, 24100, 24456, 24720], \"obs_log\": [], \"sen_log\": [], \"ability_upgrades\": [{\"time\": 78, \"level\": 1, \"ability\": 5220}, {\"time\": 108, \"level\": 2, \"ability\": 5219}, {\"time\": 137, \"level\": 3, \"ability\": 5220}, {\"time\": 199, \"level\": 4, \"ability\": 5218}, {\"time\": 255, \"level\": 5, \"ability\": 5220}, {\"time\": 318, \"level\": 6, \"ability\": 5221}, {\"time\": 383, \"level\": 7, \"ability\": 5220}, {\"time\": 452, \"level\": 8, \"ability\": 5219}, {\"time\": 585, \"level\": 9, \"ability\": 5219}, {\"time\": 751, \"level\": 10, \"ability\": 5219}, {\"time\": 826, \"level\": 11, \"ability\": 5221}, {\"time\": 939, \"level\": 12, \"ability\": 5218}, {\"time\": 1067, \"level\": 13, \"ability\": 5218}, {\"time\": 1100, \"level\": 14, \"ability\": 5002}, {\"time\": 1142, \"level\": 15, \"ability\": 5218}, {\"time\": 1284, \"level\": 16, \"ability\": 5221}, {\"time\": 1531, \"level\": 17, \"ability\": 5002}, {\"time\": 1646, \"level\": 18, \"ability\": 5002}, {\"time\": 1913, \"level\": 19, \"ability\": 5002}, {\"time\": 1995, \"level\": 20, \"ability\": 5002}, {\"time\": 2267, \"level\": 21, \"ability\": 5002}, {\"time\": 2526, \"level\": 22, \"ability\": 5002}, {\"time\": 2779, \"level\": 23, \"ability\": 5002}], \"kills_log\": [{\"unit\": \"npc_dota_hero_zuus\", \"time\": 256, \"player\": 2}, {\"unit\": \"npc_dota_hero_zuus\", \"time\": 522, \"player\": 2}, {\"unit\": \"npc_dota_hero_ancient_apparition\", \"time\": 799, \"player\": 3}, {\"unit\": \"npc_dota_hero_zuus\", \"time\": 823, \"player\": 2}, {\"unit\": \"npc_dota_hero_shredder\", \"time\": 831, \"player\": 4}, {\"unit\": \"npc_dota_hero_shredder\", \"time\": 1020, \"player\": 4}, {\"unit\": \"npc_dota_hero_spectre\", \"time\": 1026, \"player\": 0}, {\"unit\": \"npc_dota_hero_nyx_assassin\", \"time\": 1031, \"player\": 1}, {\"unit\": \"npc_dota_hero_ancient_apparition\", \"time\": 1038, \"player\": 3}, {\"unit\": \"npc_dota_hero_zuus\", \"time\": 1068, \"player\": 2}, {\"unit\": \"npc_dota_hero_shredder\", \"time\": 1172, \"player\": 4}, {\"unit\": \"npc_dota_hero_shredder\", \"time\": 1283, \"player\": 4}, {\"unit\": \"npc_dota_hero_zuus\", \"time\": 1288, \"player\": 2}, {\"unit\": \"npc_dota_hero_ancient_apparition\", \"time\": 1838, \"player\": 3}, {\"unit\": \"npc_dota_hero_zuus\", \"time\": 1843, \"player\": 2}, {\"unit\": \"npc_dota_hero_shredder\", \"time\": 2204, \"player\": 4}, {\"unit\": \"npc_dota_hero_nyx_assassin\", \"time\": 2707, \"player\": 1}], \"hero_id\": 47}, {\"lh_t\": [0, 0, 1, 1, 1, 4, 4, 5, 6, 6, 6, 6, 7, 10, 11, 11, 11, 12, 12, 14, 14, 17, 21, 22, 23, 23, 23, 24, 25, 25, 27, 27, 27, 27, 28, 28, 28, 28, 28, 29, 30, 31, 31, 31, 31, 33, 34, 34, 34, 37, 37], \"buyback_log\": [], \"xp_t\": [0, 31, 72, 72, 132, 329, 455, 537, 1256, 1537, 1703, 1836, 2018, 2213, 2408, 3298, 3298, 3908, 4262, 4419, 5400, 5543, 6449, 6650, 9599, 10437, 10443, 10519, 10638, 11430, 11583, 12323, 12413, 12413, 12613, 12849, 14049, 14578, 14578, 14743, 15868, 16012, 18570, 18570, 18570, 18745, 19922, 19922, 19922, 21414, 22566], \"purchase_log\": [{\"item_id\": 45, \"time\": -78}, {\"item_id\": 38, \"time\": -68}, {\"item_id\": 38, \"time\": -66}, {\"item_id\": 44, \"time\": -65}, {\"item_id\": 39, \"time\": -65}, {\"item_id\": 216, \"time\": -38}, {\"item_id\": 29, \"time\": 207}, {\"item_id\": 182, \"time\": 384}, {\"item_id\": 44, \"time\": 385}, {\"item_id\": 180, \"time\": 572}, {\"item_id\": 59, \"time\": 572}, {\"item_id\": 46, \"time\": 600}, {\"item_id\": 46, \"time\": 649}, {\"item_id\": 39, \"time\": 725}, {\"item_id\": 42, \"time\": 916}, {\"item_id\": 42, \"time\": 920}, {\"item_id\": 42, \"time\": 920}, {\"item_id\": 46, \"time\": 1054}, {\"item_id\": 46, \"time\": 1257}, {\"item_id\": 37, \"time\": 1332}, {\"item_id\": 1, \"time\": 1335}, {\"item_id\": 46, \"time\": 1336}, {\"item_id\": 42, \"time\": 1638}, {\"item_id\": 42, \"time\": 1639}, {\"item_id\": 27, \"time\": 1982}, {\"item_id\": 16, \"time\": 1982}, {\"item_id\": 94, \"time\": 1982}, {\"item_id\": 4, \"time\": 1982}, {\"item_id\": 16, \"time\": 1982}, {\"item_id\": 86, \"time\": 1982}, {\"item_id\": 79, \"time\": 1982}, {\"item_id\": 30, \"time\": 2245}, {\"item_id\": 42, \"time\": 2399}, {\"item_id\": 42, \"time\": 2399}, {\"item_id\": 42, \"time\": 2399}, {\"item_id\": 231, \"time\": 2405}, {\"item_id\": 31, \"time\": 2563}, {\"item_id\": 42, \"time\": 2566}, {\"item_id\": 42, \"time\": 2618}, {\"item_id\": 46, \"time\": 2620}, {\"item_id\": 37, \"time\": 2735}], \"gold_t\": [0, 99, 221, 321, 490, 680, 780, 902, 1527, 1706, 1806, 1906, 2044, 2395, 2535, 3221, 3521, 3988, 4180, 4356, 4577, 4787, 5208, 5430, 6669, 7020, 7120, 7258, 7394, 7827, 8367, 8591, 9431, 9531, 9673, 9773, 10326, 11300, 11400, 11541, 11907, 12045, 12866, 12966, 13441, 14084, 15028, 15408, 15508, 16092, 16550], \"obs_log\": [{\"xy\": [112, 131], \"time\": 1075}, {\"xy\": [144, 90], \"time\": 1356}, {\"xy\": [148, 107], \"time\": 1615}, {\"xy\": [112, 130], \"time\": 1673}, {\"xy\": [148, 107], \"time\": 1698}, {\"xy\": [148, 107], \"time\": 2443}, {\"xy\": [134, 106], \"time\": 2457}, {\"xy\": [89, 124], \"time\": 2664}, {\"xy\": [112, 131], \"time\": 2903}, {\"xy\": [94, 96], \"time\": 2940}], \"sen_log\": [], \"ability_upgrades\": [{\"time\": -25, \"level\": 1, \"ability\": 5086}, {\"time\": 310, \"level\": 2, \"ability\": 5087}, {\"time\": 474, \"level\": 3, \"ability\": 5086}, {\"time\": 520, \"level\": 4, \"ability\": 5087}, {\"time\": 592, \"level\": 5, \"ability\": 5086}, {\"time\": 770, \"level\": 6, \"ability\": 5089}, {\"time\": 964, \"level\": 7, \"ability\": 5086}, {\"time\": 966, \"level\": 8, \"ability\": 5087}, {\"time\": 1161, \"level\": 9, \"ability\": 5087}, {\"time\": 1224, \"level\": 10, \"ability\": 5088}, {\"time\": 1353, \"level\": 11, \"ability\": 5089}, {\"time\": 1473, \"level\": 12, \"ability\": 5088}, {\"time\": 1478, \"level\": 13, \"ability\": 5088}, {\"time\": 1552, \"level\": 14, \"ability\": 5088}, {\"time\": 1898, \"level\": 15, \"ability\": 5002}, {\"time\": 2195, \"level\": 16, \"ability\": 5089}, {\"time\": 2454, \"level\": 17, \"ability\": 5002}, {\"time\": 2561, \"level\": 18, \"ability\": 5002}, {\"time\": 2768, \"level\": 19, \"ability\": 5002}, {\"time\": 2983, \"level\": 20, \"ability\": 5002}], \"kills_log\": [{\"unit\": \"npc_dota_hero_shredder\", \"time\": 450, \"player\": 4}, {\"unit\": \"npc_dota_hero_zuus\", \"time\": 899, \"player\": 2}, {\"unit\": \"npc_dota_hero_zuus\", \"time\": 1014, \"player\": 2}, {\"unit\": \"npc_dota_hero_ancient_apparition\", \"time\": 1417, \"player\": 3}], \"hero_id\": 42}, {\"lh_t\": [0, 0, 0, 0, 0, 0, 1, 1, 1, 1, 1, 1, 1, 1, 3, 7, 7, 8, 10, 10, 10, 15, 17, 17, 17, 17, 18, 19, 20, 20, 21, 26, 35, 36, 37, 37, 38, 39, 39, 44, 44, 44, 45, 45, 49, 50, 50, 50, 50, 51, 51], \"buyback_log\": [], \"xp_t\": [0, 82, 292, 436, 702, 870, 996, 1160, 1222, 1468, 1614, 1791, 2108, 2211, 2374, 3006, 3006, 3616, 5747, 5747, 6113, 6778, 6849, 6942, 8401, 8401, 8407, 8483, 8667, 9051, 9191, 10476, 11853, 12114, 12237, 12723, 13984, 14498, 14498, 14806, 14806, 15105, 15156, 15156, 16351, 16447, 17376, 20063, 20063, 21338, 22005], \"purchase_log\": [{\"item_id\": 42, \"time\": -65}, {\"item_id\": 42, \"time\": -62}, {\"item_id\": 44, \"time\": -61}, {\"item_id\": 218, \"time\": -58}, {\"item_id\": 43, \"time\": -58}, {\"item_id\": 16, \"time\": -50}, {\"item_id\": 16, \"time\": -50}, {\"item_id\": 16, \"time\": -50}, {\"item_id\": 218, \"time\": -34}, {\"item_id\": 29, \"time\": 225}, {\"item_id\": 84, \"time\": 328}, {\"item_id\": 39, \"time\": 402}, {\"item_id\": 46, \"time\": 606}, {\"item_id\": 42, \"time\": 615}, {\"item_id\": 42, \"time\": 615}, {\"item_id\": 46, \"time\": 647}, {\"item_id\": 43, \"time\": 714}, {\"item_id\": 218, \"time\": 763}, {\"item_id\": 20, \"time\": 769}, {\"item_id\": 36, \"time\": 769}, {\"item_id\": 34, \"time\": 769}, {\"item_id\": 28, \"time\": 938}, {\"item_id\": 46, \"time\": 941}, {\"item_id\": 23, \"time\": 1039}, {\"item_id\": 46, \"time\": 1205}, {\"item_id\": 46, \"time\": 1205}, {\"item_id\": 57, \"time\": 1435}, {\"item_id\": 42, \"time\": 1447}, {\"item_id\": 42, \"time\": 1447}, {\"item_id\": 42, \"time\": 1447}, {\"item_id\": 43, \"time\": 1452}, {\"item_id\": 218, \"time\": 1453}, {\"item_id\": 42, \"time\": 1453}, {\"item_id\": 218, \"time\": 1454}, {\"item_id\": 42, \"time\": 1454}, {\"item_id\": 100, \"time\": 1459}, {\"item_id\": 46, \"time\": 1586}, {\"item_id\": 42, \"time\": 1813}, {\"item_id\": 218, \"time\": 1814}, {\"item_id\": 43, \"time\": 1814}, {\"item_id\": 61, \"time\": 1963}, {\"item_id\": 180, \"time\": 1963}, {\"item_id\": 59, \"time\": 1963}, {\"item_id\": 60, \"time\": 1963}, {\"item_id\": 129, \"time\": 1973}, {\"item_id\": 46, \"time\": 1997}, {\"item_id\": 46, \"time\": 1997}, {\"item_id\": 46, \"time\": 2282}, {\"item_id\": 46, \"time\": 2402}, {\"item_id\": 235, \"time\": 2721}, {\"item_id\": 58, \"time\": 2721}, {\"item_id\": 48, \"time\": 2870}], \"gold_t\": [0, 99, 199, 299, 485, 585, 724, 824, 924, 1123, 1223, 1323, 1608, 1868, 2059, 2625, 2925, 3282, 4239, 4339, 4590, 4931, 5338, 5518, 6381, 6481, 6597, 6737, 6887, 7335, 7678, 8318, 10069, 10333, 10483, 10701, 11570, 12567, 12667, 12935, 13035, 13135, 13285, 13385, 13948, 14555, 15379, 16442, 16542, 16880, 17175], \"obs_log\": [{\"xy\": [120, 137], \"time\": 15}, {\"xy\": [111, 147], \"time\": 675}, {\"xy\": [148, 106], \"time\": 956}, {\"xy\": [111, 130], \"time\": 1639}, {\"xy\": [141, 106], \"time\": 1699}, {\"xy\": [91, 96], \"time\": 1878}], \"sen_log\": [{\"xy\": [112, 131], \"time\": 19}, {\"xy\": [100, 155], \"time\": 787}, {\"xy\": [144, 109], \"time\": 957}, {\"xy\": [144, 109], \"time\": 1619}, {\"xy\": [112, 131], \"time\": 1636}, {\"xy\": [111, 130], \"time\": 1932}, {\"xy\": [149, 121], \"time\": 2029}], \"ability_upgrades\": [{\"time\": 86, \"level\": 1, \"ability\": 5299}, {\"time\": 152, \"level\": 2, \"ability\": 5298}, {\"time\": 263, \"level\": 3, \"ability\": 5299}, {\"time\": 377, \"level\": 4, \"ability\": 5297}, {\"time\": 604, \"level\": 5, \"ability\": 5298}, {\"time\": 769, \"level\": 6, \"ability\": 5300}, {\"time\": 960, \"level\": 7, \"ability\": 5298}, {\"time\": 1107, \"level\": 8, \"ability\": 5299}, {\"time\": 1107, \"level\": 9, \"ability\": 5298}, {\"time\": 1143, \"level\": 10, \"ability\": 5299}, {\"time\": 1246, \"level\": 11, \"ability\": 5300}, {\"time\": 1479, \"level\": 12, \"ability\": 5297}, {\"time\": 1802, \"level\": 13, \"ability\": 5297}, {\"time\": 1910, \"level\": 14, \"ability\": 5297}, {\"time\": 2015, \"level\": 15, \"ability\": 5002}, {\"time\": 2225, \"level\": 16, \"ability\": 5300}, {\"time\": 2656, \"level\": 17, \"ability\": 5002}, {\"time\": 2771, \"level\": 18, \"ability\": 5002}, {\"time\": 2851, \"level\": 19, \"ability\": 5002}, {\"time\": 2989, \"level\": 20, \"ability\": 5002}], \"kills_log\": [{\"unit\": \"npc_dota_hero_spectre\", \"time\": 1279, \"player\": 0}, {\"unit\": \"npc_dota_hero_shredder\", \"time\": 1400, \"player\": 4}], \"hero_id\": 64}], \"times\": [0, 60, 120, 180, 240, 300, 360, 420, 480, 540, 600, 660, 720, 780, 840, 900, 960, 1020, 1080, 1140, 1200, 1260, 1320, 1380, 1440, 1500, 1560, 1620, 1680, 1740, 1800, 1860, 1920, 1980, 2040, 2100, 2160, 2220, 2280, 2340, 2400, 2460, 2520, 2580, 2640, 2700, 2760, 2820, 2880, 2940, 3000], \"lobby_type\": 0, \"objectives\": [{\"player1\": 6, \"player2\": null, \"type\": \"firstblood\", \"time\": 198}, {\"time\": 765, \"team\": 1, \"type\": \"tower_kill\", \"player\": 7}, {\"time\": 850, \"team\": 1, \"type\": \"tower_kill\", \"player\": 9}, {\"time\": 906, \"team\": 1, \"type\": \"tower_kill\", \"player\": null}, {\"time\": 1119, \"team\": 0, \"type\": \"tower_kill\", \"player\": 0}, {\"time\": 1343, \"type\": \"tower_deny\", \"player\": null}, {\"time\": 1699, \"team\": 0, \"type\": \"tower_kill\", \"player\": 0}, {\"time\": 1725, \"team\": 1, \"type\": \"roshan_kill\"}, {\"time\": 1725, \"type\": \"aegis\", \"player\": 8}, {\"time\": 1768, \"team\": 1, \"type\": \"tower_kill\", \"player\": 8}, {\"time\": 1865, \"team\": 1, \"type\": \"tower_kill\", \"player\": 6}, {\"time\": 1872, \"type\": \"barracks_kill\", \"barracks\": 512}, {\"time\": 1881, \"type\": \"barracks_kill\", \"barracks\": 256}, {\"time\": 1989, \"team\": 0, \"type\": \"tower_kill\", \"player\": null}, {\"time\": 2109, \"team\": 0, \"type\": \"tower_kill\", \"player\": 0}, {\"time\": 2113, \"team\": 1, \"type\": \"tower_kill\", \"player\": 9}, {\"time\": 2178, \"team\": 1, \"type\": \"tower_kill\", \"player\": 5}, {\"time\": 2191, \"type\": \"barracks_kill\", \"barracks\": 64}, {\"time\": 2192, \"type\": \"barracks_kill\", \"barracks\": 128}, {\"time\": 2591, \"team\": 1, \"type\": \"roshan_kill\"}, {\"time\": 2594, \"type\": \"aegis\", \"player\": 6}, {\"time\": 2687, \"team\": 1, \"type\": \"tower_kill\", \"player\": 7}, {\"time\": 2693, \"type\": \"barracks_kill\", \"barracks\": 2048}, {\"time\": 2700, \"type\": \"barracks_kill\", \"barracks\": 1024}, {\"time\": 2752, \"team\": 1, \"type\": \"tower_kill\", \"player\": null}, {\"time\": 2760, \"team\": 1, \"type\": \"tower_kill\", \"player\": null}], \"match_id\": 247, \"start_time\": 1430514316}))\n",
       "        });\n",
       "        "
      ]
     },
     "metadata": {},
     "output_type": "display_data"
    }
   ],
   "source": [
    "RenderJSON(first_5_matches[0])"
   ]
  },
  {
   "cell_type": "code",
   "execution_count": null,
   "metadata": {
    "collapsed": true
   },
   "outputs": [],
   "source": []
  }
 ],
 "metadata": {
  "kernelspec": {
   "display_name": "Python 3",
   "language": "python",
   "name": "python3"
  },
  "language_info": {
   "codemirror_mode": {
    "name": "ipython",
    "version": 3
   },
   "file_extension": ".py",
   "mimetype": "text/x-python",
   "name": "python",
   "nbconvert_exporter": "python",
   "pygments_lexer": "ipython3",
   "version": "3.5.1"
  }
 },
 "nbformat": 4,
 "nbformat_minor": 1
}
