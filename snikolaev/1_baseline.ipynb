{
 "cells": [
  {
   "cell_type": "code",
   "execution_count": null,
   "metadata": {
    "collapsed": true
   },
   "outputs": [],
   "source": [
    "import pandas as pd\n",
    "import numpy as np"
   ]
  },
  {
   "cell_type": "code",
   "execution_count": null,
   "metadata": {
    "collapsed": true
   },
   "outputs": [],
   "source": [
    "from sklearn.cross_validation import cross_val_score, KFold\n",
    "from sklearn.grid_search import GridSearchCV\n",
    "from sklearn.preprocessing import StandardScaler, OneHotEncoder\n",
    "\n",
    "from sklearn.linear_model import LogisticRegression"
   ]
  },
  {
   "cell_type": "code",
   "execution_count": null,
   "metadata": {
    "collapsed": true
   },
   "outputs": [],
   "source": [
    "fd = pd.read_csv('features.csv')\n",
    "fd_test = pd.read_csv('features_test.csv')"
   ]
  },
  {
   "cell_type": "markdown",
   "metadata": {},
   "source": [
    "Признаки по событиям игры"
   ]
  },
  {
   "cell_type": "code",
   "execution_count": null,
   "metadata": {
    "collapsed": true
   },
   "outputs": [],
   "source": [
    "real_features = ['dif_boots_count', 'fr_boots_count', 'first_blood_team', 'dif_bottle_time', 'fr_bottle_time',\\\n",
    "                 'dif_flying_courier_time', 'fr_flying_courier_time', 'dif_tpscroll_count', 'fr_tpscroll_count',\\\n",
    "                 'dif_deaths', 'fr_deaths', 'dif_gold', 'fr_gold', 'dif_xp', 'fr_xp', 'dif_lh', 'fr_lh', 'dif_gold_2max',\\\n",
    "                 'fr_gold_2max', 'dif_xp_2max', 'fr_xp_2max', 'dif_lh_2max', 'fr_lh_2max', 'dif_gold_ch', 'fr_gold_ch',\\\n",
    "                 'dif_xp_ch', 'fr_xp_ch', 'start_time']\n",
    "\n",
    "cat_features = ['r1_hero', 'r2_hero', 'r3_hero', 'r4_hero', 'r5_hero', 'd1_hero', 'd2_hero', 'd3_hero', 'd4_hero', 'd5_hero']\n",
    "\n",
    "for f in [fd, fd_test]:\n",
    "    f['first_blood_team'].fillna(0.5, inplace=True)\n",
    "    f['radiant_bottle_time'].fillna(300, inplace=True)\n",
    "    f['dire_bottle_time'].fillna(300, inplace=True)\n",
    "    f['radiant_flying_courier_time'].fillna(300, inplace=True)\n",
    "    f['dire_flying_courier_time'].fillna(300, inplace=True)\n",
    "\n",
    "for f in [fd, fd_test]:\n",
    "    eps = 10 ** -6\n",
    "    f['r_deaths'] = f[['r{}_deaths'.format(i+1) for i in range(5)]].values.sum(axis=1)\n",
    "    f['d_deaths'] = f[['d{}_deaths'.format(i+1) for i in range(5)]].values.sum(axis=1)\n",
    "    f['r_gold'] = f[['r{}_gold'.format(i+1) for i in range(5)]].values.sum(axis=1)\n",
    "    f['d_gold'] = f[['d{}_gold'.format(i+1) for i in range(5)]].values.sum(axis=1)\n",
    "    f['r_xp'] = f[['r{}_xp'.format(i+1) for i in range(5)]].values.sum(axis=1)\n",
    "    f['d_xp'] = f[['d{}_xp'.format(i+1) for i in range(5)]].values.sum(axis=1)\n",
    "    f['r_lh'] = f[['r{}_lh'.format(i+1) for i in range(5)]].values.sum(axis=1)\n",
    "    f['d_lh'] = f[['d{}_lh'.format(i+1) for i in range(5)]].values.sum(axis=1)    \n",
    "    f['r_gold_2max'] = np.sort(f[['r{}_gold'.format(i+1) for i in range(5)]].values, axis=1)[:, 3:5].sum(axis=1)\n",
    "    f['d_gold_2max'] = np.sort(f[['d{}_gold'.format(i+1) for i in range(5)]].values, axis=1)[:, 3:5].sum(axis=1)\n",
    "    f['r_xp_2max'] = np.sort(f[['r{}_xp'.format(i+1) for i in range(5)]].values, axis=1)[:, 3:5].sum(axis=1)\n",
    "    f['d_xp_2max'] = np.sort(f[['d{}_xp'.format(i+1) for i in range(5)]].values, axis=1)[:, 3:5].sum(axis=1)\n",
    "    f['r_lh_2max'] = np.sort(f[['r{}_lh'.format(i+1) for i in range(5)]].values, axis=1)[:, 3:5].sum(axis=1)\n",
    "    f['d_lh_2max'] = np.sort(f[['d{}_lh'.format(i+1) for i in range(5)]].values, axis=1)[:, 3:5].sum(axis=1)\n",
    "    f['r_gold_pred'] = f[['r{}_gold_pred'.format(i+1) for i in range(5)]].values.sum(axis=1)\n",
    "    f['d_gold_pred'] = f[['d{}_gold_pred'.format(i+1) for i in range(5)]].values.sum(axis=1)\n",
    "    f['r_xp_pred'] = f[['r{}_xp_pred'.format(i+1) for i in range(5)]].values.sum(axis=1)\n",
    "    f['d_xp_pred'] = f[['d{}_xp_pred'.format(i+1) for i in range(5)]].values.sum(axis=1)\n",
    "    \n",
    "    f['dif_deaths'] = f.r_deaths - f.d_deaths\n",
    "    f['fr_deaths'] = f.dif_deaths / np.sqrt(f.r_deaths + f.d_deaths + eps)\n",
    "    f['dif_gold'] = f.r_gold - f.d_gold\n",
    "    f['fr_gold'] = f.dif_gold / np.sqrt(f.r_gold + f.d_gold + eps)\n",
    "    f['dif_xp'] = f.r_xp - f.d_xp\n",
    "    f['fr_xp'] = f.dif_xp / np.sqrt(f.r_xp + f.d_xp + eps)    \n",
    "    f['dif_lh'] = f.r_lh - f.d_lh\n",
    "    f['fr_lh'] = f.dif_lh / np.sqrt(f.r_lh + f.d_lh + eps)\n",
    "    f['dif_gold_2max'] = f.r_gold_2max - f.d_gold_2max\n",
    "    f['fr_gold_2max'] = f.dif_gold_2max / np.sqrt(f.r_gold_2max + f.d_gold_2max + eps)\n",
    "    f['dif_xp_2max'] = f.r_xp_2max - f.d_xp_2max\n",
    "    f['fr_xp_2max'] = f.dif_xp_2max / np.sqrt(f.r_xp_2max + f.d_xp_2max + eps)    \n",
    "    f['dif_lh_2max'] = f.r_lh_2max - f.d_lh_2max\n",
    "    f['fr_lh_2max'] = f.dif_lh_2max / np.sqrt(f.r_lh_2max + f.d_lh_2max + eps)\n",
    "    f['dif_gold_ch'] = f.dif_gold - (f.r_gold_pred - f.d_gold_pred)\n",
    "    f['fr_gold_ch'] = f.dif_gold_ch / np.sqrt(np.abs(f.dif_gold) + np.abs(f.r_gold_pred - f.d_gold_pred) + eps)\n",
    "    f['dif_xp_ch'] = f.dif_xp - (f.r_xp_pred - f.d_xp_pred)\n",
    "    f['fr_xp_ch'] = f.dif_xp_ch / np.sqrt(np.abs(f.dif_xp) + np.abs(f.r_xp_pred - f.d_xp_pred) + eps)\n",
    "    \n",
    "    f['dif_bottle_time'] = f['radiant_bottle_time'] - f['dire_bottle_time']\n",
    "    f['fr_bottle_time'] = f.dif_bottle_time / np.sqrt(f.radiant_bottle_time + f.dire_bottle_time + 146 + eps)\n",
    "    f['dif_flying_courier_time'] = f['radiant_flying_courier_time'] - f['dire_flying_courier_time']\n",
    "    f['fr_flying_courier_time'] = f.dif_flying_courier_time / np.sqrt(f.radiant_flying_courier_time\\\n",
    "                                                                      + f.dire_flying_courier_time + 146 + eps)\n",
    "    f['dif_tpscroll_count'] = f['radiant_tpscroll_count'] - f['dire_tpscroll_count']\n",
    "    f['fr_tpscroll_count'] = f.dif_tpscroll_count / np.sqrt(f.radiant_tpscroll_count + f.dire_tpscroll_count + eps)\n",
    "    f['dif_boots_count'] = f['radiant_boots_count'] - f['dire_boots_count']\n",
    "    f['fr_boots_count'] = f.dif_boots_count / np.sqrt(f.radiant_boots_count + f.dire_boots_count + eps)\n",
    "    \n",
    "    for col in f.columns:\n",
    "        if col not in (real_features + cat_features + ['radiant_win', 'match_id', 'lobby_type']):\n",
    "            del f[col]"
   ]
  },
  {
   "cell_type": "code",
   "execution_count": null,
   "metadata": {
    "collapsed": true
   },
   "outputs": [],
   "source": [
    "def pick_to_prob(X_pick, y, n_folds=20, syn=1):\n",
    "    if syn not in [1, 2]:\n",
    "        raise ValueError('syn must be 1 or 2')\n",
    "    if syn == 1:\n",
    "        n_samples, n_features = X_pick.shape\n",
    "        pr = np.zeros((n_samples, n_features), dtype=float)\n",
    "        #pr = sp.csr_matrix((n_samples, n_features), dtype=float)\n",
    "        neg_y = 1 - y\n",
    "        kf = KFold(n_samples, shuffle=True, n_folds=n_folds)\n",
    "        for train_ind, test_ind in kf:\n",
    "            for i in range(0, n_features):\n",
    "                ind_pos = test_ind[np.where(X_pick[test_ind, i] == 1)[0]]\n",
    "                ind_neg = test_ind[np.where(X_pick[test_ind, i] == -1)[0]]\n",
    "                counts = np.sum(X_pick[train_ind, i] != 0)\n",
    "                successes = np.sum(y[train_ind[np.where(X_pick[train_ind, i] == 1)[0]]])\\\n",
    "                            +np.sum(neg_y[train_ind[np.where(X_pick[train_ind, i] == -1)[0]]])\n",
    "                pr[ind_pos, i] = (successes + 1) / (counts + 2)\n",
    "                pr[ind_neg, i] = - (successes + 1) / (counts + 2)\n",
    "    else:\n",
    "        n_samples = X_pick.shape[0]\n",
    "        n_features = X_pick.shape[1] * (X_pick.shape[1] + 1) // 2\n",
    "        #pr = np.zeros((n_samples, n_features), dtype=float)\n",
    "        pr = sp.csr_matrix((n_samples, n_features), dtype=float)\n",
    "        neg_y = 1 - y\n",
    "        kf = KFold(n_samples, shuffle=True, n_folds=n_folds)\n",
    "        for train_ind, test_ind in kf:\n",
    "            cur = 0\n",
    "            for i in range(0, X_pick.shape[1]):\n",
    "                for j in range(i, X_pick.shape[1]):\n",
    "                    ind_pos = test_ind[np.where(np.logical_and((X_pick[test_ind, i] == 1), (X_pick[test_ind, j] == 1)))[0]]\n",
    "                    ind_neg = test_ind[np.where(np.logical_and((X_pick[test_ind, i] == -1), (X_pick[test_ind, j] == -1)))[0]]\n",
    "                    counts = np.sum(X_pick[train_ind, i] * X_pick[train_ind, j] > 0.5)\n",
    "                    successes = np.sum(y[train_ind[np.where(X_pick[train_ind, i] * X_pick[train_ind, j] > 0.5)[0]]])\n",
    "                    pr[ind_pos, cur] = (successes + 1) / (counts + 2)\n",
    "                    pr[ind_neg, cur] = - (successes + 1) / (counts + 2)\n",
    "                    cur += 1\n",
    "    \n",
    "    return pr\n",
    "\n",
    "def pick_to_prob_test(X_pick, X_pick_test, y, syn=1):\n",
    "    if syn not in [1, 2]:\n",
    "        raise ValueError('syn must be 1 or 2')\n",
    "    if syn == 1:\n",
    "        n_samples, n_features = X_pick_test.shape\n",
    "        pr = np.zeros((n_samples, n_features), dtype=float)\n",
    "        neg_y = 1 - y\n",
    "        for i in range(0, n_features):\n",
    "            ind_pos = np.where(X_pick_test[:, i] == 1)[0]\n",
    "            ind_neg = np.where(X_pick_test[:, i] == -1)[0]\n",
    "            counts = np.sum(X_pick[:, i] != 0)\n",
    "            successes = np.sum(y[np.where(X_pick[:, i] == 1)[0]]) + np.sum(neg_y[np.where(X_pick[:, i] == -1)[0]])\n",
    "            pr[ind_pos, i] = (successes + 1) / (counts + 2)\n",
    "            pr[ind_neg, i] = - (successes + 1) / (counts + 2)\n",
    "    else:\n",
    "        n_samples = X_pick_test.shape[0]\n",
    "        n_features = X_pick_test.shape[1] * (X_pick_test.shape[1] + 1) // 2\n",
    "        #pr = np.zeros((n_samples, n_features), dtype=float)\n",
    "        pr = sp.csr_matrix((n_samples, n_features), dtype=float)\n",
    "        neg_y = 1 - y\n",
    "        kf = KFold(n_samples, shuffle=True, n_folds=n_folds)\n",
    "        for train_ind, test_ind in kf:\n",
    "            cur = 0\n",
    "            for i in range(0, X_pick_test.shape[1]):\n",
    "                for j in range(i, X_pick_test.shape[1]):\n",
    "                    ind_pos = np.where(np.logical_and((X_pick_test[:, i] == 1), (X_pick_test[:, j] == 1)))[0]\n",
    "                    ind_neg = np.where(np.logical_and((X_pick_test[:, i] == -1), (X_pick_test[:, j] == -1)))[0]\n",
    "                    counts = np.sum(X_pick[:, i] * X_pick[:, j] > 0.5)\n",
    "                    successes = np.sum(y[np.where(X_pick[:, i] * X_pick[:, j] > 0.5)[0]])\n",
    "                    pr[ind_pos, cur] = (successes + 1) / (counts + 2)\n",
    "                    pr[ind_neg, cur] = - (successes + 1) / (counts + 2)\n",
    "                    cur += 1\n",
    "    \n",
    "    return pr   "
   ]
  },
  {
   "cell_type": "markdown",
   "metadata": {},
   "source": [
    "Пики героев (мешок слов)"
   ]
  },
  {
   "cell_type": "code",
   "execution_count": null,
   "metadata": {
    "collapsed": true
   },
   "outputs": [],
   "source": [
    "N = np.max(fd[cat_features].values)\n",
    "X_pick = np.zeros((fd.shape[0], N))\n",
    "X_pick_test = np.zeros((fd_test.shape[0], N))\n",
    "for i, match_id in enumerate(fd.index):\n",
    "    for p in range(5):\n",
    "        X_pick[i, fd.ix[match_id, 'r%d_hero' % (p+1)]-1] = 1\n",
    "        X_pick[i, fd.ix[match_id, 'd%d_hero' % (p+1)]-1] = -1\n",
    "for i, match_id in enumerate(fd_test.index):\n",
    "    for p in range(5):\n",
    "        X_pick_test[i, fd_test.ix[match_id, 'r%d_hero' % (p+1)]-1] = 1\n",
    "        X_pick_test[i, fd_test.ix[match_id, 'd%d_hero' % (p+1)]-1] = -1\n",
    "X_pick = X_pick[:, X_pick.std(axis=0) != 0]\n",
    "X_pick_test = X_pick_test[:, X_pick_test.std(axis=0) != 0]"
   ]
  },
  {
   "cell_type": "markdown",
   "metadata": {},
   "source": [
    "Учет винрейтов героев"
   ]
  },
  {
   "cell_type": "code",
   "execution_count": null,
   "metadata": {
    "collapsed": true
   },
   "outputs": [],
   "source": [
    "X_pick_prob = pick_to_prob(X_pick, fd.radiant_win.values)\n",
    "X_pick_test_prob = pick_to_prob_test(X_pick, X_pick_test, fd.radiant_win.values)\n",
    "\n",
    "scl = StandardScaler(with_mean=False)\n",
    "scl.fit(np.vstack((X_pick_prob, X_pick_test_prob)))\n",
    "X_pick_prob = scl.transform(X_pick_prob)\n",
    "X_pick_test_prob = scl.transform(X_pick_test_prob)"
   ]
  },
  {
   "cell_type": "markdown",
   "metadata": {
    "ExecuteTime": {
     "end_time": "2016-11-09T13:43:12.141100",
     "start_time": "2016-11-09T13:43:12.132393"
    }
   },
   "source": [
    "One-hot-encoding лобби"
   ]
  },
  {
   "cell_type": "code",
   "execution_count": null,
   "metadata": {
    "collapsed": true
   },
   "outputs": [],
   "source": [
    "fd.loc[fd.lobby_type == 7, 'lobby_type'] = 2\n",
    "fd_test.loc[fd_test.lobby_type == 7, 'lobby_type'] = 2\n",
    "enc = OneHotEncoder(sparse=False)\n",
    "enc.fit(fd.lobby_type.values[:, np.newaxis])\n",
    "lobby = enc.transform(fd.lobby_type.values[:, np.newaxis])\n",
    "lobby_test = enc.transform(fd_test.lobby_type.values[:, np.newaxis])"
   ]
  },
  {
   "cell_type": "code",
   "execution_count": null,
   "metadata": {
    "collapsed": true
   },
   "outputs": [],
   "source": [
    "for f in [fd, fd_test]:\n",
    "    for col in real_features:\n",
    "        f[col] = (f[col] - f[col].mean()) / f[col].std()"
   ]
  },
  {
   "cell_type": "markdown",
   "metadata": {},
   "source": [
    "Также схожий результат дало С=400"
   ]
  },
  {
   "cell_type": "code",
   "execution_count": null,
   "metadata": {
    "collapsed": true
   },
   "outputs": [],
   "source": [
    "lr = LogisticRegression()\n",
    "params = {\n",
    "    'penalty': ['l2'],\n",
    "    'C': [0.4],\n",
    "}\n",
    "clf = GridSearchCV(estimator=lr, param_grid=params, scoring='log_loss', cv=5, n_jobs=2)\n",
    "clf.fit(np.hstack((X_pick_prob, fd[real_features].values, lobby)), fd['radiant_win'].values)\n",
    "answer = clf.predict_proba(np.hstack((X_pick_test_prob, fd_test[real_features].values, lobby_test)))"
   ]
  },
  {
   "cell_type": "code",
   "execution_count": null,
   "metadata": {
    "collapsed": true
   },
   "outputs": [],
   "source": [
    "clf.best_score_"
   ]
  },
  {
   "cell_type": "code",
   "execution_count": null,
   "metadata": {
    "collapsed": true
   },
   "outputs": [],
   "source": [
    "output = pd.DataFrame(data={'match_id': fd_test['match_id'], 'radiant_win': answer[:, 1]})\n",
    "output.to_csv('output.csv', index=None)"
   ]
  },
  {
   "cell_type": "markdown",
   "metadata": {},
   "source": [
    "Что можно добавить:\n",
    "* Оставить индивидуальные показатели\n",
    "* Отсортировать индивидуальные показатели по мощи\n",
    "* Добавить признак level\n",
    "* Синергия/антисинергия\n",
    "* Найти лучший скейлинг\n",
    "* Добавить степени признаков\n",
    "* Для каждого лобби делать свое предсказание"
   ]
  }
 ],
 "metadata": {
  "hide_input": false,
  "kernelspec": {
   "display_name": "Python 3",
   "language": "python",
   "name": "python3"
  },
  "language_info": {
   "codemirror_mode": {
    "name": "ipython",
    "version": 3
   },
   "file_extension": ".py",
   "mimetype": "text/x-python",
   "name": "python",
   "nbconvert_exporter": "python",
   "pygments_lexer": "ipython3",
   "version": "3.4.3"
  },
  "nav_menu": {},
  "toc": {
   "navigate_menu": true,
   "number_sections": true,
   "sideBar": true,
   "threshold": 6,
   "toc_cell": false,
   "toc_section_display": "block",
   "toc_window_display": false
  }
 },
 "nbformat": 4,
 "nbformat_minor": 0
}
